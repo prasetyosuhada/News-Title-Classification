{
 "cells": [
  {
   "cell_type": "markdown",
   "metadata": {},
   "source": [
    "# News Title Classification"
   ]
  },
  {
   "cell_type": "markdown",
   "metadata": {},
   "source": [
    "### Variables:\n",
    "- df: Dataframe from \"News Title.xls\"\n",
    "- X: \"News Title\" feature from Dataframe\n",
    "- y: \"Category\" feature from Dataframe"
   ]
  },
  {
   "cell_type": "code",
   "execution_count": 1,
   "metadata": {},
   "outputs": [],
   "source": [
    "import pandas as pd\n",
    "import numpy as np\n",
    "import matplotlib.pyplot as plt\n",
    "import seaborn as sns\n",
    "\n",
    "%matplotlib inline\n",
    "sns.set_style(\"whitegrid\")\n",
    "plt.style.use(\"fivethirtyeight\")"
   ]
  },
  {
   "cell_type": "code",
   "execution_count": 2,
   "metadata": {},
   "outputs": [
    {
     "data": {
      "text/html": [
       "<div>\n",
       "<style scoped>\n",
       "    .dataframe tbody tr th:only-of-type {\n",
       "        vertical-align: middle;\n",
       "    }\n",
       "\n",
       "    .dataframe tbody tr th {\n",
       "        vertical-align: top;\n",
       "    }\n",
       "\n",
       "    .dataframe thead th {\n",
       "        text-align: right;\n",
       "    }\n",
       "</style>\n",
       "<table border=\"1\" class=\"dataframe\">\n",
       "  <thead>\n",
       "    <tr style=\"text-align: right;\">\n",
       "      <th></th>\n",
       "      <th>No</th>\n",
       "      <th>News Title</th>\n",
       "      <th>Category</th>\n",
       "    </tr>\n",
       "  </thead>\n",
       "  <tbody>\n",
       "    <tr>\n",
       "      <th>0</th>\n",
       "      <td>1</td>\n",
       "      <td>Google+ rolls out 'Stories' for tricked out ph...</td>\n",
       "      <td>Technology</td>\n",
       "    </tr>\n",
       "    <tr>\n",
       "      <th>1</th>\n",
       "      <td>2</td>\n",
       "      <td>Dov Charney's Redeeming Quality</td>\n",
       "      <td>Business</td>\n",
       "    </tr>\n",
       "    <tr>\n",
       "      <th>2</th>\n",
       "      <td>3</td>\n",
       "      <td>White God adds Un Certain Regard to the Palm Dog</td>\n",
       "      <td>Entertainment</td>\n",
       "    </tr>\n",
       "    <tr>\n",
       "      <th>3</th>\n",
       "      <td>4</td>\n",
       "      <td>Google shows off Androids for wearables, cars,...</td>\n",
       "      <td>Technology</td>\n",
       "    </tr>\n",
       "    <tr>\n",
       "      <th>4</th>\n",
       "      <td>5</td>\n",
       "      <td>China May new bank loans at 870.8 bln yuan</td>\n",
       "      <td>Business</td>\n",
       "    </tr>\n",
       "  </tbody>\n",
       "</table>\n",
       "</div>"
      ],
      "text/plain": [
       "   No                                         News Title       Category\n",
       "0   1  Google+ rolls out 'Stories' for tricked out ph...     Technology\n",
       "1   2                    Dov Charney's Redeeming Quality       Business\n",
       "2   3   White God adds Un Certain Regard to the Palm Dog  Entertainment\n",
       "3   4  Google shows off Androids for wearables, cars,...     Technology\n",
       "4   5         China May new bank loans at 870.8 bln yuan       Business"
      ]
     },
     "execution_count": 2,
     "metadata": {},
     "output_type": "execute_result"
    }
   ],
   "source": [
    "df = pd.read_excel('News Title.xls')\n",
    "df.head()"
   ]
  },
  {
   "cell_type": "code",
   "execution_count": 3,
   "metadata": {},
   "outputs": [
    {
     "name": "stdout",
     "output_type": "stream",
     "text": [
      "<class 'pandas.core.frame.DataFrame'>\n",
      "RangeIndex: 65535 entries, 0 to 65534\n",
      "Data columns (total 3 columns):\n",
      " #   Column      Non-Null Count  Dtype \n",
      "---  ------      --------------  ----- \n",
      " 0   No          65535 non-null  int64 \n",
      " 1   News Title  65535 non-null  object\n",
      " 2   Category    65535 non-null  object\n",
      "dtypes: int64(1), object(2)\n",
      "memory usage: 1.5+ MB\n"
     ]
    }
   ],
   "source": [
    "df.info()"
   ]
  },
  {
   "cell_type": "markdown",
   "metadata": {},
   "source": [
    "# Exploratory Data Analysis (EDA)"
   ]
  },
  {
   "cell_type": "code",
   "execution_count": 4,
   "metadata": {},
   "outputs": [
    {
     "data": {
      "text/plain": [
       "Entertainment    23961\n",
       "Business         17707\n",
       "Technology       16776\n",
       "Medical           7091\n",
       "Name: Category, dtype: int64"
      ]
     },
     "execution_count": 4,
     "metadata": {},
     "output_type": "execute_result"
    }
   ],
   "source": [
    "# total count for each categories\n",
    "df['Category'].value_counts()"
   ]
  },
  {
   "cell_type": "code",
   "execution_count": 5,
   "metadata": {},
   "outputs": [
    {
     "data": {
      "text/plain": [
       "The article requested cannot be found! Please refresh your browser or go back  ...    21\n",
       "Posted by Shoaib-ur-Rehman Siddiqui                                                   11\n",
       "Posted by Imaduddin                                                                   11\n",
       "Business Highlights                                                                   10\n",
       "Posted by Parvez Jabri                                                                10\n",
       "                                                                                      ..\n",
       "After a Harsh Winter More Americans to Start Summer Travel Season with a  ...          1\n",
       "NASHVILLE's Hayden Panettiere Expecting First Child                                    1\n",
       "Father's touching photo request sparks action on social media                          1\n",
       "Google Wants You to Text While Driving                                                 1\n",
       "Google to Launch “Google Fit” at I/O, Will Announce Wearable Partners Too              1\n",
       "Name: News Title, Length: 64981, dtype: int64"
      ]
     },
     "execution_count": 5,
     "metadata": {},
     "output_type": "execute_result"
    }
   ],
   "source": [
    "# total count for each News Title\n",
    "df['News Title'].value_counts()"
   ]
  },
  {
   "cell_type": "markdown",
   "metadata": {},
   "source": [
    "# Data Cleansing\n",
    "\n",
    "I removed the title for contains:\n",
    "- \"The article requested cannot be found! Please refresh your browser or go back\"\n",
    "- \"Posted by\"\n",
    "- \"Posted on\"\n",
    "- \"click the phrases to see a list\"\n",
    "\n",
    "I removed this field because there was no hint of the news title at all."
   ]
  },
  {
   "cell_type": "code",
   "execution_count": 6,
   "metadata": {},
   "outputs": [
    {
     "data": {
      "text/html": [
       "<div>\n",
       "<style scoped>\n",
       "    .dataframe tbody tr th:only-of-type {\n",
       "        vertical-align: middle;\n",
       "    }\n",
       "\n",
       "    .dataframe tbody tr th {\n",
       "        vertical-align: top;\n",
       "    }\n",
       "\n",
       "    .dataframe thead th {\n",
       "        text-align: right;\n",
       "    }\n",
       "</style>\n",
       "<table border=\"1\" class=\"dataframe\">\n",
       "  <thead>\n",
       "    <tr style=\"text-align: right;\">\n",
       "      <th></th>\n",
       "      <th>No</th>\n",
       "      <th>News Title</th>\n",
       "      <th>Category</th>\n",
       "    </tr>\n",
       "  </thead>\n",
       "  <tbody>\n",
       "    <tr>\n",
       "      <th>989</th>\n",
       "      <td>990</td>\n",
       "      <td>The article requested cannot be found! Please ...</td>\n",
       "      <td>Entertainment</td>\n",
       "    </tr>\n",
       "    <tr>\n",
       "      <th>4320</th>\n",
       "      <td>4321</td>\n",
       "      <td>The article requested cannot be found! Please ...</td>\n",
       "      <td>Entertainment</td>\n",
       "    </tr>\n",
       "    <tr>\n",
       "      <th>4425</th>\n",
       "      <td>4426</td>\n",
       "      <td>The article requested cannot be found! Please ...</td>\n",
       "      <td>Entertainment</td>\n",
       "    </tr>\n",
       "    <tr>\n",
       "      <th>5099</th>\n",
       "      <td>5100</td>\n",
       "      <td>The article requested cannot be found! Please ...</td>\n",
       "      <td>Entertainment</td>\n",
       "    </tr>\n",
       "    <tr>\n",
       "      <th>5249</th>\n",
       "      <td>5250</td>\n",
       "      <td>The article requested cannot be found! Please ...</td>\n",
       "      <td>Entertainment</td>\n",
       "    </tr>\n",
       "    <tr>\n",
       "      <th>9011</th>\n",
       "      <td>9012</td>\n",
       "      <td>The article requested cannot be found! Please ...</td>\n",
       "      <td>Entertainment</td>\n",
       "    </tr>\n",
       "    <tr>\n",
       "      <th>12375</th>\n",
       "      <td>12376</td>\n",
       "      <td>The article requested cannot be found! Please ...</td>\n",
       "      <td>Entertainment</td>\n",
       "    </tr>\n",
       "    <tr>\n",
       "      <th>13255</th>\n",
       "      <td>13256</td>\n",
       "      <td>The article requested cannot be found! Please ...</td>\n",
       "      <td>Entertainment</td>\n",
       "    </tr>\n",
       "    <tr>\n",
       "      <th>15279</th>\n",
       "      <td>15280</td>\n",
       "      <td>The article requested cannot be found! Please ...</td>\n",
       "      <td>Entertainment</td>\n",
       "    </tr>\n",
       "    <tr>\n",
       "      <th>17182</th>\n",
       "      <td>17183</td>\n",
       "      <td>The article requested cannot be found! Please ...</td>\n",
       "      <td>Entertainment</td>\n",
       "    </tr>\n",
       "    <tr>\n",
       "      <th>19623</th>\n",
       "      <td>19624</td>\n",
       "      <td>The article requested cannot be found! Please ...</td>\n",
       "      <td>Entertainment</td>\n",
       "    </tr>\n",
       "    <tr>\n",
       "      <th>21092</th>\n",
       "      <td>21093</td>\n",
       "      <td>The article requested cannot be found! Please ...</td>\n",
       "      <td>Entertainment</td>\n",
       "    </tr>\n",
       "    <tr>\n",
       "      <th>32175</th>\n",
       "      <td>32176</td>\n",
       "      <td>The article requested cannot be found! Please ...</td>\n",
       "      <td>Entertainment</td>\n",
       "    </tr>\n",
       "    <tr>\n",
       "      <th>35223</th>\n",
       "      <td>35224</td>\n",
       "      <td>The article requested cannot be found! Please ...</td>\n",
       "      <td>Entertainment</td>\n",
       "    </tr>\n",
       "    <tr>\n",
       "      <th>36342</th>\n",
       "      <td>36343</td>\n",
       "      <td>The article requested cannot be found! Please ...</td>\n",
       "      <td>Entertainment</td>\n",
       "    </tr>\n",
       "    <tr>\n",
       "      <th>37627</th>\n",
       "      <td>37628</td>\n",
       "      <td>The article requested cannot be found! Please ...</td>\n",
       "      <td>Entertainment</td>\n",
       "    </tr>\n",
       "    <tr>\n",
       "      <th>39358</th>\n",
       "      <td>39359</td>\n",
       "      <td>The article requested cannot be found! Please ...</td>\n",
       "      <td>Entertainment</td>\n",
       "    </tr>\n",
       "    <tr>\n",
       "      <th>42095</th>\n",
       "      <td>42096</td>\n",
       "      <td>The article requested cannot be found! Please ...</td>\n",
       "      <td>Entertainment</td>\n",
       "    </tr>\n",
       "    <tr>\n",
       "      <th>57244</th>\n",
       "      <td>57245</td>\n",
       "      <td>The article requested cannot be found! Please ...</td>\n",
       "      <td>Technology</td>\n",
       "    </tr>\n",
       "    <tr>\n",
       "      <th>59069</th>\n",
       "      <td>59070</td>\n",
       "      <td>The article requested cannot be found! Please ...</td>\n",
       "      <td>Entertainment</td>\n",
       "    </tr>\n",
       "    <tr>\n",
       "      <th>62123</th>\n",
       "      <td>62124</td>\n",
       "      <td>The article requested cannot be found! Please ...</td>\n",
       "      <td>Entertainment</td>\n",
       "    </tr>\n",
       "  </tbody>\n",
       "</table>\n",
       "</div>"
      ],
      "text/plain": [
       "          No                                         News Title       Category\n",
       "989      990  The article requested cannot be found! Please ...  Entertainment\n",
       "4320    4321  The article requested cannot be found! Please ...  Entertainment\n",
       "4425    4426  The article requested cannot be found! Please ...  Entertainment\n",
       "5099    5100  The article requested cannot be found! Please ...  Entertainment\n",
       "5249    5250  The article requested cannot be found! Please ...  Entertainment\n",
       "9011    9012  The article requested cannot be found! Please ...  Entertainment\n",
       "12375  12376  The article requested cannot be found! Please ...  Entertainment\n",
       "13255  13256  The article requested cannot be found! Please ...  Entertainment\n",
       "15279  15280  The article requested cannot be found! Please ...  Entertainment\n",
       "17182  17183  The article requested cannot be found! Please ...  Entertainment\n",
       "19623  19624  The article requested cannot be found! Please ...  Entertainment\n",
       "21092  21093  The article requested cannot be found! Please ...  Entertainment\n",
       "32175  32176  The article requested cannot be found! Please ...  Entertainment\n",
       "35223  35224  The article requested cannot be found! Please ...  Entertainment\n",
       "36342  36343  The article requested cannot be found! Please ...  Entertainment\n",
       "37627  37628  The article requested cannot be found! Please ...  Entertainment\n",
       "39358  39359  The article requested cannot be found! Please ...  Entertainment\n",
       "42095  42096  The article requested cannot be found! Please ...  Entertainment\n",
       "57244  57245  The article requested cannot be found! Please ...     Technology\n",
       "59069  59070  The article requested cannot be found! Please ...  Entertainment\n",
       "62123  62124  The article requested cannot be found! Please ...  Entertainment"
      ]
     },
     "execution_count": 6,
     "metadata": {},
     "output_type": "execute_result"
    }
   ],
   "source": [
    "# check the field which will be removed\n",
    "df[df['News Title'].str.contains(\"The article requested cannot be found! Please refresh your browser or go back\")]"
   ]
  },
  {
   "cell_type": "code",
   "execution_count": 7,
   "metadata": {},
   "outputs": [
    {
     "name": "stdout",
     "output_type": "stream",
     "text": [
      "[989, 4320, 4425, 5099, 5249, 9011, 12375, 13255, 15279, 17182, 19623, 21092, 32175, 35223, 36342, 37627, 39358, 42095, 57244, 59069, 62123]\n"
     ]
    }
   ],
   "source": [
    "# print the index of the field which will be removed\n",
    "print(list(df[df['News Title'].str.contains(\"The article requested cannot be found! Please refresh your browser or go back\")].index))"
   ]
  },
  {
   "cell_type": "code",
   "execution_count": 8,
   "metadata": {},
   "outputs": [
    {
     "data": {
      "text/html": [
       "<div>\n",
       "<style scoped>\n",
       "    .dataframe tbody tr th:only-of-type {\n",
       "        vertical-align: middle;\n",
       "    }\n",
       "\n",
       "    .dataframe tbody tr th {\n",
       "        vertical-align: top;\n",
       "    }\n",
       "\n",
       "    .dataframe thead th {\n",
       "        text-align: right;\n",
       "    }\n",
       "</style>\n",
       "<table border=\"1\" class=\"dataframe\">\n",
       "  <thead>\n",
       "    <tr style=\"text-align: right;\">\n",
       "      <th></th>\n",
       "      <th>No</th>\n",
       "      <th>News Title</th>\n",
       "      <th>Category</th>\n",
       "    </tr>\n",
       "  </thead>\n",
       "  <tbody>\n",
       "    <tr>\n",
       "      <th>0</th>\n",
       "      <td>1</td>\n",
       "      <td>Google+ rolls out 'Stories' for tricked out ph...</td>\n",
       "      <td>Technology</td>\n",
       "    </tr>\n",
       "    <tr>\n",
       "      <th>1</th>\n",
       "      <td>2</td>\n",
       "      <td>Dov Charney's Redeeming Quality</td>\n",
       "      <td>Business</td>\n",
       "    </tr>\n",
       "    <tr>\n",
       "      <th>2</th>\n",
       "      <td>3</td>\n",
       "      <td>White God adds Un Certain Regard to the Palm Dog</td>\n",
       "      <td>Entertainment</td>\n",
       "    </tr>\n",
       "    <tr>\n",
       "      <th>3</th>\n",
       "      <td>4</td>\n",
       "      <td>Google shows off Androids for wearables, cars,...</td>\n",
       "      <td>Technology</td>\n",
       "    </tr>\n",
       "    <tr>\n",
       "      <th>4</th>\n",
       "      <td>5</td>\n",
       "      <td>China May new bank loans at 870.8 bln yuan</td>\n",
       "      <td>Business</td>\n",
       "    </tr>\n",
       "    <tr>\n",
       "      <th>...</th>\n",
       "      <td>...</td>\n",
       "      <td>...</td>\n",
       "      <td>...</td>\n",
       "    </tr>\n",
       "    <tr>\n",
       "      <th>65509</th>\n",
       "      <td>65531</td>\n",
       "      <td>Xbox One Homebrew Will Likely Be a Reality in ...</td>\n",
       "      <td>Technology</td>\n",
       "    </tr>\n",
       "    <tr>\n",
       "      <th>65510</th>\n",
       "      <td>65532</td>\n",
       "      <td>Maker Recalls 1.9 Million Rear-Facing Infant S...</td>\n",
       "      <td>Technology</td>\n",
       "    </tr>\n",
       "    <tr>\n",
       "      <th>65511</th>\n",
       "      <td>65533</td>\n",
       "      <td>Watch first 'Ninja Turtles' trailer</td>\n",
       "      <td>Entertainment</td>\n",
       "    </tr>\n",
       "    <tr>\n",
       "      <th>65512</th>\n",
       "      <td>65534</td>\n",
       "      <td>23/05/2014Dogs triumph in Cannes as canine thr...</td>\n",
       "      <td>Entertainment</td>\n",
       "    </tr>\n",
       "    <tr>\n",
       "      <th>65513</th>\n",
       "      <td>65535</td>\n",
       "      <td>FrontPoint Security CEO Chris Villar Ranked No...</td>\n",
       "      <td>Business</td>\n",
       "    </tr>\n",
       "  </tbody>\n",
       "</table>\n",
       "<p>65514 rows × 3 columns</p>\n",
       "</div>"
      ],
      "text/plain": [
       "          No                                         News Title       Category\n",
       "0          1  Google+ rolls out 'Stories' for tricked out ph...     Technology\n",
       "1          2                    Dov Charney's Redeeming Quality       Business\n",
       "2          3   White God adds Un Certain Regard to the Palm Dog  Entertainment\n",
       "3          4  Google shows off Androids for wearables, cars,...     Technology\n",
       "4          5         China May new bank loans at 870.8 bln yuan       Business\n",
       "...      ...                                                ...            ...\n",
       "65509  65531  Xbox One Homebrew Will Likely Be a Reality in ...     Technology\n",
       "65510  65532  Maker Recalls 1.9 Million Rear-Facing Infant S...     Technology\n",
       "65511  65533                Watch first 'Ninja Turtles' trailer  Entertainment\n",
       "65512  65534  23/05/2014Dogs triumph in Cannes as canine thr...  Entertainment\n",
       "65513  65535  FrontPoint Security CEO Chris Villar Ranked No...       Business\n",
       "\n",
       "[65514 rows x 3 columns]"
      ]
     },
     "execution_count": 8,
     "metadata": {},
     "output_type": "execute_result"
    }
   ],
   "source": [
    "# remove the field that have no hint for news title\n",
    "df.drop([989, 4320, 4425, 5099, 5249, 9011, 12375, 13255, 15279, 17182, 19623, 21092, 32175, 35223, 36342, 37627,\n",
    "         39358, 42095,57244, 59069, 62123], inplace=True)\n",
    "df.reset_index(drop=True, inplace=True)\n",
    "df"
   ]
  },
  {
   "cell_type": "code",
   "execution_count": 9,
   "metadata": {},
   "outputs": [
    {
     "data": {
      "text/html": [
       "<div>\n",
       "<style scoped>\n",
       "    .dataframe tbody tr th:only-of-type {\n",
       "        vertical-align: middle;\n",
       "    }\n",
       "\n",
       "    .dataframe tbody tr th {\n",
       "        vertical-align: top;\n",
       "    }\n",
       "\n",
       "    .dataframe thead th {\n",
       "        text-align: right;\n",
       "    }\n",
       "</style>\n",
       "<table border=\"1\" class=\"dataframe\">\n",
       "  <thead>\n",
       "    <tr style=\"text-align: right;\">\n",
       "      <th></th>\n",
       "      <th>No</th>\n",
       "      <th>News Title</th>\n",
       "      <th>Category</th>\n",
       "    </tr>\n",
       "  </thead>\n",
       "  <tbody>\n",
       "    <tr>\n",
       "      <th>3331</th>\n",
       "      <td>3333</td>\n",
       "      <td>Posted by Parvez Jabri</td>\n",
       "      <td>Business</td>\n",
       "    </tr>\n",
       "    <tr>\n",
       "      <th>4149</th>\n",
       "      <td>4151</td>\n",
       "      <td>Posted by Parvez Jabri</td>\n",
       "      <td>Business</td>\n",
       "    </tr>\n",
       "    <tr>\n",
       "      <th>4670</th>\n",
       "      <td>4674</td>\n",
       "      <td>Posted by Shoaib-ur-Rehman Siddiqui</td>\n",
       "      <td>Business</td>\n",
       "    </tr>\n",
       "    <tr>\n",
       "      <th>5616</th>\n",
       "      <td>5622</td>\n",
       "      <td>Posted by Shoaib-ur-Rehman Siddiqui</td>\n",
       "      <td>Technology</td>\n",
       "    </tr>\n",
       "    <tr>\n",
       "      <th>8340</th>\n",
       "      <td>8346</td>\n",
       "      <td>Posted by Imaduddin</td>\n",
       "      <td>Entertainment</td>\n",
       "    </tr>\n",
       "    <tr>\n",
       "      <th>8794</th>\n",
       "      <td>8800</td>\n",
       "      <td>Posted by Shoaib-ur-Rehman Siddiqui</td>\n",
       "      <td>Business</td>\n",
       "    </tr>\n",
       "    <tr>\n",
       "      <th>9354</th>\n",
       "      <td>9361</td>\n",
       "      <td>Posted by Parvez Jabri</td>\n",
       "      <td>Business</td>\n",
       "    </tr>\n",
       "    <tr>\n",
       "      <th>9867</th>\n",
       "      <td>9874</td>\n",
       "      <td>Posted by Shoaib-ur-Rehman Siddiqui</td>\n",
       "      <td>Business</td>\n",
       "    </tr>\n",
       "    <tr>\n",
       "      <th>11408</th>\n",
       "      <td>11415</td>\n",
       "      <td>Posted by Muhammad Iqbal</td>\n",
       "      <td>Business</td>\n",
       "    </tr>\n",
       "    <tr>\n",
       "      <th>14863</th>\n",
       "      <td>14872</td>\n",
       "      <td>Posted by Imaduddin</td>\n",
       "      <td>Business</td>\n",
       "    </tr>\n",
       "    <tr>\n",
       "      <th>15048</th>\n",
       "      <td>15057</td>\n",
       "      <td>Posted by Imaduddin</td>\n",
       "      <td>Business</td>\n",
       "    </tr>\n",
       "    <tr>\n",
       "      <th>18976</th>\n",
       "      <td>18987</td>\n",
       "      <td>Posted by Imaduddin</td>\n",
       "      <td>Business</td>\n",
       "    </tr>\n",
       "    <tr>\n",
       "      <th>19453</th>\n",
       "      <td>19464</td>\n",
       "      <td>Posted by Imaduddin</td>\n",
       "      <td>Business</td>\n",
       "    </tr>\n",
       "    <tr>\n",
       "      <th>20778</th>\n",
       "      <td>20790</td>\n",
       "      <td>Posted by Shoaib-ur-Rehman Siddiqui</td>\n",
       "      <td>Business</td>\n",
       "    </tr>\n",
       "    <tr>\n",
       "      <th>20964</th>\n",
       "      <td>20976</td>\n",
       "      <td>Posted by Shoaib-ur-Rehman Siddiqui</td>\n",
       "      <td>Business</td>\n",
       "    </tr>\n",
       "    <tr>\n",
       "      <th>22178</th>\n",
       "      <td>22191</td>\n",
       "      <td>Posted by Shoaib-ur-Rehman Siddiqui</td>\n",
       "      <td>Business</td>\n",
       "    </tr>\n",
       "    <tr>\n",
       "      <th>22758</th>\n",
       "      <td>22771</td>\n",
       "      <td>Posted by Parvez Jabri</td>\n",
       "      <td>Business</td>\n",
       "    </tr>\n",
       "    <tr>\n",
       "      <th>24646</th>\n",
       "      <td>24659</td>\n",
       "      <td>Posted by Parvez Jabri</td>\n",
       "      <td>Business</td>\n",
       "    </tr>\n",
       "    <tr>\n",
       "      <th>29912</th>\n",
       "      <td>29925</td>\n",
       "      <td>Posted by Imaduddin</td>\n",
       "      <td>Business</td>\n",
       "    </tr>\n",
       "    <tr>\n",
       "      <th>30688</th>\n",
       "      <td>30701</td>\n",
       "      <td>Posted by Parvez Jabri</td>\n",
       "      <td>Business</td>\n",
       "    </tr>\n",
       "    <tr>\n",
       "      <th>41428</th>\n",
       "      <td>41446</td>\n",
       "      <td>Posted by Imaduddin</td>\n",
       "      <td>Business</td>\n",
       "    </tr>\n",
       "    <tr>\n",
       "      <th>41447</th>\n",
       "      <td>41465</td>\n",
       "      <td>Posted by Muhammad Iqbal</td>\n",
       "      <td>Business</td>\n",
       "    </tr>\n",
       "    <tr>\n",
       "      <th>41822</th>\n",
       "      <td>41840</td>\n",
       "      <td>Posted by Imaduddin</td>\n",
       "      <td>Business</td>\n",
       "    </tr>\n",
       "    <tr>\n",
       "      <th>41893</th>\n",
       "      <td>41911</td>\n",
       "      <td>Posted by Parvez Jabri</td>\n",
       "      <td>Medical</td>\n",
       "    </tr>\n",
       "    <tr>\n",
       "      <th>42140</th>\n",
       "      <td>42159</td>\n",
       "      <td>Posted by Shoaib-ur-Rehman Siddiqui</td>\n",
       "      <td>Business</td>\n",
       "    </tr>\n",
       "    <tr>\n",
       "      <th>42706</th>\n",
       "      <td>42725</td>\n",
       "      <td>Posted by Muhammad Iqbal</td>\n",
       "      <td>Business</td>\n",
       "    </tr>\n",
       "    <tr>\n",
       "      <th>45315</th>\n",
       "      <td>45334</td>\n",
       "      <td>Posted by Abdul Ahad</td>\n",
       "      <td>Business</td>\n",
       "    </tr>\n",
       "    <tr>\n",
       "      <th>49664</th>\n",
       "      <td>49683</td>\n",
       "      <td>Posted by Muhammad Iqbal</td>\n",
       "      <td>Business</td>\n",
       "    </tr>\n",
       "    <tr>\n",
       "      <th>50031</th>\n",
       "      <td>50050</td>\n",
       "      <td>Posted by Muhammad Iqbal</td>\n",
       "      <td>Business</td>\n",
       "    </tr>\n",
       "    <tr>\n",
       "      <th>50863</th>\n",
       "      <td>50882</td>\n",
       "      <td>Posted by Imaduddin</td>\n",
       "      <td>Business</td>\n",
       "    </tr>\n",
       "    <tr>\n",
       "      <th>53147</th>\n",
       "      <td>53166</td>\n",
       "      <td>Posted by Muhammad Iqbal</td>\n",
       "      <td>Business</td>\n",
       "    </tr>\n",
       "    <tr>\n",
       "      <th>53365</th>\n",
       "      <td>53384</td>\n",
       "      <td>Posted by Shoaib-ur-Rehman Siddiqui</td>\n",
       "      <td>Business</td>\n",
       "    </tr>\n",
       "    <tr>\n",
       "      <th>56574</th>\n",
       "      <td>56593</td>\n",
       "      <td>Posted by Imaduddin</td>\n",
       "      <td>Business</td>\n",
       "    </tr>\n",
       "    <tr>\n",
       "      <th>56615</th>\n",
       "      <td>56634</td>\n",
       "      <td>Posted by Imaduddin</td>\n",
       "      <td>Business</td>\n",
       "    </tr>\n",
       "    <tr>\n",
       "      <th>58122</th>\n",
       "      <td>58142</td>\n",
       "      <td>Posted by Parvez Jabri</td>\n",
       "      <td>Technology</td>\n",
       "    </tr>\n",
       "    <tr>\n",
       "      <th>58914</th>\n",
       "      <td>58934</td>\n",
       "      <td>Posted by Shoaib-ur-Rehman Siddiqui</td>\n",
       "      <td>Business</td>\n",
       "    </tr>\n",
       "    <tr>\n",
       "      <th>60658</th>\n",
       "      <td>60679</td>\n",
       "      <td>Posted by Parvez Jabri</td>\n",
       "      <td>Business</td>\n",
       "    </tr>\n",
       "    <tr>\n",
       "      <th>64405</th>\n",
       "      <td>64427</td>\n",
       "      <td>Posted by Shoaib-ur-Rehman Siddiqui</td>\n",
       "      <td>Business</td>\n",
       "    </tr>\n",
       "    <tr>\n",
       "      <th>65086</th>\n",
       "      <td>65108</td>\n",
       "      <td>Posted by Parvez Jabri</td>\n",
       "      <td>Business</td>\n",
       "    </tr>\n",
       "  </tbody>\n",
       "</table>\n",
       "</div>"
      ],
      "text/plain": [
       "          No                           News Title       Category\n",
       "3331    3333               Posted by Parvez Jabri       Business\n",
       "4149    4151               Posted by Parvez Jabri       Business\n",
       "4670    4674  Posted by Shoaib-ur-Rehman Siddiqui       Business\n",
       "5616    5622  Posted by Shoaib-ur-Rehman Siddiqui     Technology\n",
       "8340    8346                  Posted by Imaduddin  Entertainment\n",
       "8794    8800  Posted by Shoaib-ur-Rehman Siddiqui       Business\n",
       "9354    9361               Posted by Parvez Jabri       Business\n",
       "9867    9874  Posted by Shoaib-ur-Rehman Siddiqui       Business\n",
       "11408  11415             Posted by Muhammad Iqbal       Business\n",
       "14863  14872                  Posted by Imaduddin       Business\n",
       "15048  15057                  Posted by Imaduddin       Business\n",
       "18976  18987                  Posted by Imaduddin       Business\n",
       "19453  19464                  Posted by Imaduddin       Business\n",
       "20778  20790  Posted by Shoaib-ur-Rehman Siddiqui       Business\n",
       "20964  20976  Posted by Shoaib-ur-Rehman Siddiqui       Business\n",
       "22178  22191  Posted by Shoaib-ur-Rehman Siddiqui       Business\n",
       "22758  22771               Posted by Parvez Jabri       Business\n",
       "24646  24659               Posted by Parvez Jabri       Business\n",
       "29912  29925                  Posted by Imaduddin       Business\n",
       "30688  30701               Posted by Parvez Jabri       Business\n",
       "41428  41446                  Posted by Imaduddin       Business\n",
       "41447  41465             Posted by Muhammad Iqbal       Business\n",
       "41822  41840                  Posted by Imaduddin       Business\n",
       "41893  41911               Posted by Parvez Jabri        Medical\n",
       "42140  42159  Posted by Shoaib-ur-Rehman Siddiqui       Business\n",
       "42706  42725             Posted by Muhammad Iqbal       Business\n",
       "45315  45334                 Posted by Abdul Ahad       Business\n",
       "49664  49683             Posted by Muhammad Iqbal       Business\n",
       "50031  50050             Posted by Muhammad Iqbal       Business\n",
       "50863  50882                  Posted by Imaduddin       Business\n",
       "53147  53166             Posted by Muhammad Iqbal       Business\n",
       "53365  53384  Posted by Shoaib-ur-Rehman Siddiqui       Business\n",
       "56574  56593                  Posted by Imaduddin       Business\n",
       "56615  56634                  Posted by Imaduddin       Business\n",
       "58122  58142               Posted by Parvez Jabri     Technology\n",
       "58914  58934  Posted by Shoaib-ur-Rehman Siddiqui       Business\n",
       "60658  60679               Posted by Parvez Jabri       Business\n",
       "64405  64427  Posted by Shoaib-ur-Rehman Siddiqui       Business\n",
       "65086  65108               Posted by Parvez Jabri       Business"
      ]
     },
     "execution_count": 9,
     "metadata": {},
     "output_type": "execute_result"
    }
   ],
   "source": [
    "# check the field which will be removed\n",
    "df[df['News Title'].str.contains(\"Posted by\")]"
   ]
  },
  {
   "cell_type": "code",
   "execution_count": 10,
   "metadata": {},
   "outputs": [
    {
     "name": "stdout",
     "output_type": "stream",
     "text": [
      "[3331, 4149, 4670, 5616, 8340, 8794, 9354, 9867, 11408, 14863, 15048, 18976, 19453, 20778, 20964, 22178, 22758, 24646, 29912, 30688, 41428, 41447, 41822, 41893, 42140, 42706, 45315, 49664, 50031, 50863, 53147, 53365, 56574, 56615, 58122, 58914, 60658, 64405, 65086]\n"
     ]
    }
   ],
   "source": [
    "# print the index of the field which will be removed\n",
    "print(list(df[df['News Title'].str.contains(\"Posted by\")].index))"
   ]
  },
  {
   "cell_type": "code",
   "execution_count": 11,
   "metadata": {},
   "outputs": [
    {
     "data": {
      "text/html": [
       "<div>\n",
       "<style scoped>\n",
       "    .dataframe tbody tr th:only-of-type {\n",
       "        vertical-align: middle;\n",
       "    }\n",
       "\n",
       "    .dataframe tbody tr th {\n",
       "        vertical-align: top;\n",
       "    }\n",
       "\n",
       "    .dataframe thead th {\n",
       "        text-align: right;\n",
       "    }\n",
       "</style>\n",
       "<table border=\"1\" class=\"dataframe\">\n",
       "  <thead>\n",
       "    <tr style=\"text-align: right;\">\n",
       "      <th></th>\n",
       "      <th>No</th>\n",
       "      <th>News Title</th>\n",
       "      <th>Category</th>\n",
       "    </tr>\n",
       "  </thead>\n",
       "  <tbody>\n",
       "    <tr>\n",
       "      <th>0</th>\n",
       "      <td>1</td>\n",
       "      <td>Google+ rolls out 'Stories' for tricked out ph...</td>\n",
       "      <td>Technology</td>\n",
       "    </tr>\n",
       "    <tr>\n",
       "      <th>1</th>\n",
       "      <td>2</td>\n",
       "      <td>Dov Charney's Redeeming Quality</td>\n",
       "      <td>Business</td>\n",
       "    </tr>\n",
       "    <tr>\n",
       "      <th>2</th>\n",
       "      <td>3</td>\n",
       "      <td>White God adds Un Certain Regard to the Palm Dog</td>\n",
       "      <td>Entertainment</td>\n",
       "    </tr>\n",
       "    <tr>\n",
       "      <th>3</th>\n",
       "      <td>4</td>\n",
       "      <td>Google shows off Androids for wearables, cars,...</td>\n",
       "      <td>Technology</td>\n",
       "    </tr>\n",
       "    <tr>\n",
       "      <th>4</th>\n",
       "      <td>5</td>\n",
       "      <td>China May new bank loans at 870.8 bln yuan</td>\n",
       "      <td>Business</td>\n",
       "    </tr>\n",
       "    <tr>\n",
       "      <th>...</th>\n",
       "      <td>...</td>\n",
       "      <td>...</td>\n",
       "      <td>...</td>\n",
       "    </tr>\n",
       "    <tr>\n",
       "      <th>65470</th>\n",
       "      <td>65531</td>\n",
       "      <td>Xbox One Homebrew Will Likely Be a Reality in ...</td>\n",
       "      <td>Technology</td>\n",
       "    </tr>\n",
       "    <tr>\n",
       "      <th>65471</th>\n",
       "      <td>65532</td>\n",
       "      <td>Maker Recalls 1.9 Million Rear-Facing Infant S...</td>\n",
       "      <td>Technology</td>\n",
       "    </tr>\n",
       "    <tr>\n",
       "      <th>65472</th>\n",
       "      <td>65533</td>\n",
       "      <td>Watch first 'Ninja Turtles' trailer</td>\n",
       "      <td>Entertainment</td>\n",
       "    </tr>\n",
       "    <tr>\n",
       "      <th>65473</th>\n",
       "      <td>65534</td>\n",
       "      <td>23/05/2014Dogs triumph in Cannes as canine thr...</td>\n",
       "      <td>Entertainment</td>\n",
       "    </tr>\n",
       "    <tr>\n",
       "      <th>65474</th>\n",
       "      <td>65535</td>\n",
       "      <td>FrontPoint Security CEO Chris Villar Ranked No...</td>\n",
       "      <td>Business</td>\n",
       "    </tr>\n",
       "  </tbody>\n",
       "</table>\n",
       "<p>65475 rows × 3 columns</p>\n",
       "</div>"
      ],
      "text/plain": [
       "          No                                         News Title       Category\n",
       "0          1  Google+ rolls out 'Stories' for tricked out ph...     Technology\n",
       "1          2                    Dov Charney's Redeeming Quality       Business\n",
       "2          3   White God adds Un Certain Regard to the Palm Dog  Entertainment\n",
       "3          4  Google shows off Androids for wearables, cars,...     Technology\n",
       "4          5         China May new bank loans at 870.8 bln yuan       Business\n",
       "...      ...                                                ...            ...\n",
       "65470  65531  Xbox One Homebrew Will Likely Be a Reality in ...     Technology\n",
       "65471  65532  Maker Recalls 1.9 Million Rear-Facing Infant S...     Technology\n",
       "65472  65533                Watch first 'Ninja Turtles' trailer  Entertainment\n",
       "65473  65534  23/05/2014Dogs triumph in Cannes as canine thr...  Entertainment\n",
       "65474  65535  FrontPoint Security CEO Chris Villar Ranked No...       Business\n",
       "\n",
       "[65475 rows x 3 columns]"
      ]
     },
     "execution_count": 11,
     "metadata": {},
     "output_type": "execute_result"
    }
   ],
   "source": [
    "# remove the field that have no hint for news title\n",
    "df.drop([3331, 4149, 4670, 5616, 8340, 8794, 9354, 9867, 11408, 14863, 15048, 18976, 19453, 20778, 20964, 22178, 22758, 24646, \n",
    "         29912, 30688, 41428, 41447, 41822, 41893, 42140, 42706, 45315, 49664, 50031, 50863, 53147, 53365, 56574, 56615, 58122, \n",
    "         58914, 60658, 64405, 65086], inplace=True)\n",
    "df.reset_index(drop=True, inplace=True)\n",
    "df"
   ]
  },
  {
   "cell_type": "code",
   "execution_count": 12,
   "metadata": {},
   "outputs": [
    {
     "data": {
      "text/html": [
       "<div>\n",
       "<style scoped>\n",
       "    .dataframe tbody tr th:only-of-type {\n",
       "        vertical-align: middle;\n",
       "    }\n",
       "\n",
       "    .dataframe tbody tr th {\n",
       "        vertical-align: top;\n",
       "    }\n",
       "\n",
       "    .dataframe thead th {\n",
       "        text-align: right;\n",
       "    }\n",
       "</style>\n",
       "<table border=\"1\" class=\"dataframe\">\n",
       "  <thead>\n",
       "    <tr style=\"text-align: right;\">\n",
       "      <th></th>\n",
       "      <th>No</th>\n",
       "      <th>News Title</th>\n",
       "      <th>Category</th>\n",
       "    </tr>\n",
       "  </thead>\n",
       "  <tbody>\n",
       "    <tr>\n",
       "      <th>42472</th>\n",
       "      <td>42516</td>\n",
       "      <td>Posted on April 14th, 2014 at 5:58 am</td>\n",
       "      <td>Entertainment</td>\n",
       "    </tr>\n",
       "    <tr>\n",
       "      <th>53782</th>\n",
       "      <td>53833</td>\n",
       "      <td>Posted on 29th June 2014</td>\n",
       "      <td>Entertainment</td>\n",
       "    </tr>\n",
       "  </tbody>\n",
       "</table>\n",
       "</div>"
      ],
      "text/plain": [
       "          No                             News Title       Category\n",
       "42472  42516  Posted on April 14th, 2014 at 5:58 am  Entertainment\n",
       "53782  53833               Posted on 29th June 2014  Entertainment"
      ]
     },
     "execution_count": 12,
     "metadata": {},
     "output_type": "execute_result"
    }
   ],
   "source": [
    "# check the field which will be removed\n",
    "df[df['News Title'].str.contains(\"Posted on\")]"
   ]
  },
  {
   "cell_type": "code",
   "execution_count": 13,
   "metadata": {},
   "outputs": [
    {
     "name": "stdout",
     "output_type": "stream",
     "text": [
      "[42472, 53782]\n"
     ]
    }
   ],
   "source": [
    "# print the index of the field which will be removed\n",
    "print(list(df[df['News Title'].str.contains(\"Posted on\")].index))"
   ]
  },
  {
   "cell_type": "code",
   "execution_count": 14,
   "metadata": {},
   "outputs": [
    {
     "data": {
      "text/html": [
       "<div>\n",
       "<style scoped>\n",
       "    .dataframe tbody tr th:only-of-type {\n",
       "        vertical-align: middle;\n",
       "    }\n",
       "\n",
       "    .dataframe tbody tr th {\n",
       "        vertical-align: top;\n",
       "    }\n",
       "\n",
       "    .dataframe thead th {\n",
       "        text-align: right;\n",
       "    }\n",
       "</style>\n",
       "<table border=\"1\" class=\"dataframe\">\n",
       "  <thead>\n",
       "    <tr style=\"text-align: right;\">\n",
       "      <th></th>\n",
       "      <th>No</th>\n",
       "      <th>News Title</th>\n",
       "      <th>Category</th>\n",
       "    </tr>\n",
       "  </thead>\n",
       "  <tbody>\n",
       "    <tr>\n",
       "      <th>0</th>\n",
       "      <td>1</td>\n",
       "      <td>Google+ rolls out 'Stories' for tricked out ph...</td>\n",
       "      <td>Technology</td>\n",
       "    </tr>\n",
       "    <tr>\n",
       "      <th>1</th>\n",
       "      <td>2</td>\n",
       "      <td>Dov Charney's Redeeming Quality</td>\n",
       "      <td>Business</td>\n",
       "    </tr>\n",
       "    <tr>\n",
       "      <th>2</th>\n",
       "      <td>3</td>\n",
       "      <td>White God adds Un Certain Regard to the Palm Dog</td>\n",
       "      <td>Entertainment</td>\n",
       "    </tr>\n",
       "    <tr>\n",
       "      <th>3</th>\n",
       "      <td>4</td>\n",
       "      <td>Google shows off Androids for wearables, cars,...</td>\n",
       "      <td>Technology</td>\n",
       "    </tr>\n",
       "    <tr>\n",
       "      <th>4</th>\n",
       "      <td>5</td>\n",
       "      <td>China May new bank loans at 870.8 bln yuan</td>\n",
       "      <td>Business</td>\n",
       "    </tr>\n",
       "    <tr>\n",
       "      <th>...</th>\n",
       "      <td>...</td>\n",
       "      <td>...</td>\n",
       "      <td>...</td>\n",
       "    </tr>\n",
       "    <tr>\n",
       "      <th>65468</th>\n",
       "      <td>65531</td>\n",
       "      <td>Xbox One Homebrew Will Likely Be a Reality in ...</td>\n",
       "      <td>Technology</td>\n",
       "    </tr>\n",
       "    <tr>\n",
       "      <th>65469</th>\n",
       "      <td>65532</td>\n",
       "      <td>Maker Recalls 1.9 Million Rear-Facing Infant S...</td>\n",
       "      <td>Technology</td>\n",
       "    </tr>\n",
       "    <tr>\n",
       "      <th>65470</th>\n",
       "      <td>65533</td>\n",
       "      <td>Watch first 'Ninja Turtles' trailer</td>\n",
       "      <td>Entertainment</td>\n",
       "    </tr>\n",
       "    <tr>\n",
       "      <th>65471</th>\n",
       "      <td>65534</td>\n",
       "      <td>23/05/2014Dogs triumph in Cannes as canine thr...</td>\n",
       "      <td>Entertainment</td>\n",
       "    </tr>\n",
       "    <tr>\n",
       "      <th>65472</th>\n",
       "      <td>65535</td>\n",
       "      <td>FrontPoint Security CEO Chris Villar Ranked No...</td>\n",
       "      <td>Business</td>\n",
       "    </tr>\n",
       "  </tbody>\n",
       "</table>\n",
       "<p>65473 rows × 3 columns</p>\n",
       "</div>"
      ],
      "text/plain": [
       "          No                                         News Title       Category\n",
       "0          1  Google+ rolls out 'Stories' for tricked out ph...     Technology\n",
       "1          2                    Dov Charney's Redeeming Quality       Business\n",
       "2          3   White God adds Un Certain Regard to the Palm Dog  Entertainment\n",
       "3          4  Google shows off Androids for wearables, cars,...     Technology\n",
       "4          5         China May new bank loans at 870.8 bln yuan       Business\n",
       "...      ...                                                ...            ...\n",
       "65468  65531  Xbox One Homebrew Will Likely Be a Reality in ...     Technology\n",
       "65469  65532  Maker Recalls 1.9 Million Rear-Facing Infant S...     Technology\n",
       "65470  65533                Watch first 'Ninja Turtles' trailer  Entertainment\n",
       "65471  65534  23/05/2014Dogs triumph in Cannes as canine thr...  Entertainment\n",
       "65472  65535  FrontPoint Security CEO Chris Villar Ranked No...       Business\n",
       "\n",
       "[65473 rows x 3 columns]"
      ]
     },
     "execution_count": 14,
     "metadata": {},
     "output_type": "execute_result"
    }
   ],
   "source": [
    "# remove the field that have no hint for news title\n",
    "df.drop([42472, 53782], inplace=True)\n",
    "df.reset_index(drop=True, inplace=True)\n",
    "df"
   ]
  },
  {
   "cell_type": "code",
   "execution_count": 15,
   "metadata": {},
   "outputs": [
    {
     "data": {
      "text/plain": [
       "Business Highlights                                                              10\n",
       "What you need to know before markets open                                         7\n",
       "(click the phrases to see a list)                                                 7\n",
       "Business Wire                                                                     7\n",
       "10 Things to Know for Today                                                       6\n",
       "                                                                                 ..\n",
       "'Jem and the Holograms'...                                                        1\n",
       "After a Harsh Winter More Americans to Start Summer Travel Season with a  ...     1\n",
       "NASHVILLE's Hayden Panettiere Expecting First Child                               1\n",
       "Father's touching photo request sparks action on social media                     1\n",
       "Google to Launch “Google Fit” at I/O, Will Announce Wearable Partners Too         1\n",
       "Name: News Title, Length: 64973, dtype: int64"
      ]
     },
     "execution_count": 15,
     "metadata": {},
     "output_type": "execute_result"
    }
   ],
   "source": [
    "# check total count for each News Title so we will know in case there is a weird news title\n",
    "df['News Title'].value_counts()"
   ]
  },
  {
   "cell_type": "markdown",
   "metadata": {},
   "source": [
    "wow, there is a weird news title. That is \"(click the phrases to see a list)\""
   ]
  },
  {
   "cell_type": "code",
   "execution_count": 16,
   "metadata": {},
   "outputs": [
    {
     "data": {
      "text/html": [
       "<div>\n",
       "<style scoped>\n",
       "    .dataframe tbody tr th:only-of-type {\n",
       "        vertical-align: middle;\n",
       "    }\n",
       "\n",
       "    .dataframe tbody tr th {\n",
       "        vertical-align: top;\n",
       "    }\n",
       "\n",
       "    .dataframe thead th {\n",
       "        text-align: right;\n",
       "    }\n",
       "</style>\n",
       "<table border=\"1\" class=\"dataframe\">\n",
       "  <thead>\n",
       "    <tr style=\"text-align: right;\">\n",
       "      <th></th>\n",
       "      <th>No</th>\n",
       "      <th>News Title</th>\n",
       "      <th>Category</th>\n",
       "    </tr>\n",
       "  </thead>\n",
       "  <tbody>\n",
       "    <tr>\n",
       "      <th>966</th>\n",
       "      <td>967</td>\n",
       "      <td>(click the phrases to see a list)</td>\n",
       "      <td>Business</td>\n",
       "    </tr>\n",
       "    <tr>\n",
       "      <th>19248</th>\n",
       "      <td>19271</td>\n",
       "      <td>(click the phrases to see a list)</td>\n",
       "      <td>Entertainment</td>\n",
       "    </tr>\n",
       "    <tr>\n",
       "      <th>25925</th>\n",
       "      <td>25956</td>\n",
       "      <td>(click the phrases to see a list)</td>\n",
       "      <td>Entertainment</td>\n",
       "    </tr>\n",
       "    <tr>\n",
       "      <th>30730</th>\n",
       "      <td>30763</td>\n",
       "      <td>(click the phrases to see a list)</td>\n",
       "      <td>Medical</td>\n",
       "    </tr>\n",
       "    <tr>\n",
       "      <th>39802</th>\n",
       "      <td>39840</td>\n",
       "      <td>(click the phrases to see a list)</td>\n",
       "      <td>Medical</td>\n",
       "    </tr>\n",
       "    <tr>\n",
       "      <th>52982</th>\n",
       "      <td>53032</td>\n",
       "      <td>(click the phrases to see a list)</td>\n",
       "      <td>Technology</td>\n",
       "    </tr>\n",
       "    <tr>\n",
       "      <th>54918</th>\n",
       "      <td>54971</td>\n",
       "      <td>(click the phrases to see a list)</td>\n",
       "      <td>Business</td>\n",
       "    </tr>\n",
       "  </tbody>\n",
       "</table>\n",
       "</div>"
      ],
      "text/plain": [
       "          No                         News Title       Category\n",
       "966      967  (click the phrases to see a list)       Business\n",
       "19248  19271  (click the phrases to see a list)  Entertainment\n",
       "25925  25956  (click the phrases to see a list)  Entertainment\n",
       "30730  30763  (click the phrases to see a list)        Medical\n",
       "39802  39840  (click the phrases to see a list)        Medical\n",
       "52982  53032  (click the phrases to see a list)     Technology\n",
       "54918  54971  (click the phrases to see a list)       Business"
      ]
     },
     "execution_count": 16,
     "metadata": {},
     "output_type": "execute_result"
    }
   ],
   "source": [
    "# check the field which will be removed\n",
    "df[df['News Title'].str.contains(\"click the phrases to see a list\")]"
   ]
  },
  {
   "cell_type": "code",
   "execution_count": 17,
   "metadata": {},
   "outputs": [
    {
     "name": "stdout",
     "output_type": "stream",
     "text": [
      "[966, 19248, 25925, 30730, 39802, 52982, 54918]\n"
     ]
    }
   ],
   "source": [
    "# print the index of the field which will be removed\n",
    "print(list(df[df['News Title'].str.contains(\"click the phrases to see a list\")].index))"
   ]
  },
  {
   "cell_type": "code",
   "execution_count": 18,
   "metadata": {},
   "outputs": [
    {
     "data": {
      "text/html": [
       "<div>\n",
       "<style scoped>\n",
       "    .dataframe tbody tr th:only-of-type {\n",
       "        vertical-align: middle;\n",
       "    }\n",
       "\n",
       "    .dataframe tbody tr th {\n",
       "        vertical-align: top;\n",
       "    }\n",
       "\n",
       "    .dataframe thead th {\n",
       "        text-align: right;\n",
       "    }\n",
       "</style>\n",
       "<table border=\"1\" class=\"dataframe\">\n",
       "  <thead>\n",
       "    <tr style=\"text-align: right;\">\n",
       "      <th></th>\n",
       "      <th>No</th>\n",
       "      <th>News Title</th>\n",
       "      <th>Category</th>\n",
       "    </tr>\n",
       "  </thead>\n",
       "  <tbody>\n",
       "    <tr>\n",
       "      <th>0</th>\n",
       "      <td>1</td>\n",
       "      <td>Google+ rolls out 'Stories' for tricked out ph...</td>\n",
       "      <td>Technology</td>\n",
       "    </tr>\n",
       "    <tr>\n",
       "      <th>1</th>\n",
       "      <td>2</td>\n",
       "      <td>Dov Charney's Redeeming Quality</td>\n",
       "      <td>Business</td>\n",
       "    </tr>\n",
       "    <tr>\n",
       "      <th>2</th>\n",
       "      <td>3</td>\n",
       "      <td>White God adds Un Certain Regard to the Palm Dog</td>\n",
       "      <td>Entertainment</td>\n",
       "    </tr>\n",
       "    <tr>\n",
       "      <th>3</th>\n",
       "      <td>4</td>\n",
       "      <td>Google shows off Androids for wearables, cars,...</td>\n",
       "      <td>Technology</td>\n",
       "    </tr>\n",
       "    <tr>\n",
       "      <th>4</th>\n",
       "      <td>5</td>\n",
       "      <td>China May new bank loans at 870.8 bln yuan</td>\n",
       "      <td>Business</td>\n",
       "    </tr>\n",
       "    <tr>\n",
       "      <th>...</th>\n",
       "      <td>...</td>\n",
       "      <td>...</td>\n",
       "      <td>...</td>\n",
       "    </tr>\n",
       "    <tr>\n",
       "      <th>65461</th>\n",
       "      <td>65531</td>\n",
       "      <td>Xbox One Homebrew Will Likely Be a Reality in ...</td>\n",
       "      <td>Technology</td>\n",
       "    </tr>\n",
       "    <tr>\n",
       "      <th>65462</th>\n",
       "      <td>65532</td>\n",
       "      <td>Maker Recalls 1.9 Million Rear-Facing Infant S...</td>\n",
       "      <td>Technology</td>\n",
       "    </tr>\n",
       "    <tr>\n",
       "      <th>65463</th>\n",
       "      <td>65533</td>\n",
       "      <td>Watch first 'Ninja Turtles' trailer</td>\n",
       "      <td>Entertainment</td>\n",
       "    </tr>\n",
       "    <tr>\n",
       "      <th>65464</th>\n",
       "      <td>65534</td>\n",
       "      <td>23/05/2014Dogs triumph in Cannes as canine thr...</td>\n",
       "      <td>Entertainment</td>\n",
       "    </tr>\n",
       "    <tr>\n",
       "      <th>65465</th>\n",
       "      <td>65535</td>\n",
       "      <td>FrontPoint Security CEO Chris Villar Ranked No...</td>\n",
       "      <td>Business</td>\n",
       "    </tr>\n",
       "  </tbody>\n",
       "</table>\n",
       "<p>65466 rows × 3 columns</p>\n",
       "</div>"
      ],
      "text/plain": [
       "          No                                         News Title       Category\n",
       "0          1  Google+ rolls out 'Stories' for tricked out ph...     Technology\n",
       "1          2                    Dov Charney's Redeeming Quality       Business\n",
       "2          3   White God adds Un Certain Regard to the Palm Dog  Entertainment\n",
       "3          4  Google shows off Androids for wearables, cars,...     Technology\n",
       "4          5         China May new bank loans at 870.8 bln yuan       Business\n",
       "...      ...                                                ...            ...\n",
       "65461  65531  Xbox One Homebrew Will Likely Be a Reality in ...     Technology\n",
       "65462  65532  Maker Recalls 1.9 Million Rear-Facing Infant S...     Technology\n",
       "65463  65533                Watch first 'Ninja Turtles' trailer  Entertainment\n",
       "65464  65534  23/05/2014Dogs triumph in Cannes as canine thr...  Entertainment\n",
       "65465  65535  FrontPoint Security CEO Chris Villar Ranked No...       Business\n",
       "\n",
       "[65466 rows x 3 columns]"
      ]
     },
     "execution_count": 18,
     "metadata": {},
     "output_type": "execute_result"
    }
   ],
   "source": [
    "# remove the field that have no hint for news title\n",
    "df.drop([966, 19248, 25925, 30730, 39802, 52982, 54918], inplace=True)\n",
    "df.reset_index(drop=True, inplace=True)\n",
    "df"
   ]
  },
  {
   "cell_type": "code",
   "execution_count": 19,
   "metadata": {},
   "outputs": [
    {
     "data": {
      "text/plain": [
       "Business Highlights                                                              10\n",
       "What you need to know before markets open                                         7\n",
       "Business Wire                                                                     7\n",
       "PR Newswire                                                                       6\n",
       "10 Things to Know for Today                                                       6\n",
       "                                                                                 ..\n",
       "New alleged Banksy piece takes swipe at government phone surveillance             1\n",
       "'Jem and the Holograms'...                                                        1\n",
       "After a Harsh Winter More Americans to Start Summer Travel Season with a  ...     1\n",
       "NASHVILLE's Hayden Panettiere Expecting First Child                               1\n",
       "Google to Launch “Google Fit” at I/O, Will Announce Wearable Partners Too         1\n",
       "Name: News Title, Length: 64972, dtype: int64"
      ]
     },
     "execution_count": 19,
     "metadata": {},
     "output_type": "execute_result"
    }
   ],
   "source": [
    "# check total count for each News Title so we will know in case there is a weird news title\n",
    "df['News Title'].value_counts()"
   ]
  },
  {
   "cell_type": "markdown",
   "metadata": {},
   "source": [
    "# Feature Engineering"
   ]
  },
  {
   "cell_type": "code",
   "execution_count": 20,
   "metadata": {},
   "outputs": [
    {
     "data": {
      "text/html": [
       "<div>\n",
       "<style scoped>\n",
       "    .dataframe tbody tr th:only-of-type {\n",
       "        vertical-align: middle;\n",
       "    }\n",
       "\n",
       "    .dataframe tbody tr th {\n",
       "        vertical-align: top;\n",
       "    }\n",
       "\n",
       "    .dataframe thead th {\n",
       "        text-align: right;\n",
       "    }\n",
       "</style>\n",
       "<table border=\"1\" class=\"dataframe\">\n",
       "  <thead>\n",
       "    <tr style=\"text-align: right;\">\n",
       "      <th></th>\n",
       "      <th>No</th>\n",
       "      <th>News Title</th>\n",
       "      <th>Category</th>\n",
       "      <th>title_len</th>\n",
       "    </tr>\n",
       "  </thead>\n",
       "  <tbody>\n",
       "    <tr>\n",
       "      <th>0</th>\n",
       "      <td>1</td>\n",
       "      <td>Google+ rolls out 'Stories' for tricked out ph...</td>\n",
       "      <td>Technology</td>\n",
       "      <td>58</td>\n",
       "    </tr>\n",
       "    <tr>\n",
       "      <th>1</th>\n",
       "      <td>2</td>\n",
       "      <td>Dov Charney's Redeeming Quality</td>\n",
       "      <td>Business</td>\n",
       "      <td>31</td>\n",
       "    </tr>\n",
       "    <tr>\n",
       "      <th>2</th>\n",
       "      <td>3</td>\n",
       "      <td>White God adds Un Certain Regard to the Palm Dog</td>\n",
       "      <td>Entertainment</td>\n",
       "      <td>48</td>\n",
       "    </tr>\n",
       "    <tr>\n",
       "      <th>3</th>\n",
       "      <td>4</td>\n",
       "      <td>Google shows off Androids for wearables, cars,...</td>\n",
       "      <td>Technology</td>\n",
       "      <td>50</td>\n",
       "    </tr>\n",
       "    <tr>\n",
       "      <th>4</th>\n",
       "      <td>5</td>\n",
       "      <td>China May new bank loans at 870.8 bln yuan</td>\n",
       "      <td>Business</td>\n",
       "      <td>42</td>\n",
       "    </tr>\n",
       "  </tbody>\n",
       "</table>\n",
       "</div>"
      ],
      "text/plain": [
       "   No                                         News Title       Category  \\\n",
       "0   1  Google+ rolls out 'Stories' for tricked out ph...     Technology   \n",
       "1   2                    Dov Charney's Redeeming Quality       Business   \n",
       "2   3   White God adds Un Certain Regard to the Palm Dog  Entertainment   \n",
       "3   4  Google shows off Androids for wearables, cars,...     Technology   \n",
       "4   5         China May new bank loans at 870.8 bln yuan       Business   \n",
       "\n",
       "   title_len  \n",
       "0         58  \n",
       "1         31  \n",
       "2         48  \n",
       "3         50  \n",
       "4         42  "
      ]
     },
     "execution_count": 20,
     "metadata": {},
     "output_type": "execute_result"
    }
   ],
   "source": [
    "# add feature for length for each title\n",
    "df['title_len'] = df['News Title'].apply(len)\n",
    "df.head()"
   ]
  },
  {
   "cell_type": "code",
   "execution_count": 21,
   "metadata": {},
   "outputs": [
    {
     "data": {
      "text/plain": [
       "Text(0.5,0,'Title Length')"
      ]
     },
     "execution_count": 21,
     "metadata": {},
     "output_type": "execute_result"
    },
    {
     "data": {
      "image/png": "[encoded data removed]",
      "text/plain": [
       "<matplotlib.figure.Figure at 0x20c600b80b8>"
      ]
     },
     "metadata": {},
     "output_type": "display_data"
    }
   ],
   "source": [
    "# histogram for title_len for category: Entertainment and category: Technology\n",
    "plt.figure(figsize=(12, 8))\n",
    "\n",
    "df[df['Category']=='Entertainment']['title_len'].plot(kind='hist', color='blue', \n",
    "                                       label='Entertainment', alpha=0.6)\n",
    "df[df['Category']=='Technology']['title_len'].plot(kind='hist', color='yellow', \n",
    "                                       label='Technology', alpha=0.6)\n",
    "\n",
    "plt.legend()\n",
    "plt.xlabel(\"Title Length\")"
   ]
  },
  {
   "cell_type": "markdown",
   "metadata": {},
   "source": [
    "This histogram is so weird, i will check soon"
   ]
  },
  {
   "cell_type": "code",
   "execution_count": 22,
   "metadata": {},
   "outputs": [
    {
     "data": {
      "text/plain": [
       "Text(0.5,0,'Title Length')"
      ]
     },
     "execution_count": 22,
     "metadata": {},
     "output_type": "execute_result"
    },
    {
     "data": {
      "image/png": "[encoded data removed]",
      "text/plain": [
       "<matplotlib.figure.Figure at 0x20c5fd061d0>"
      ]
     },
     "metadata": {},
     "output_type": "display_data"
    }
   ],
   "source": [
    "# histogram for title_len for category: Business and category: Medical\n",
    "plt.figure(figsize=(12, 8))\n",
    "\n",
    "df[df['Category']=='Business']['title_len'].plot(kind='hist', color='green', \n",
    "                                       label='Business', alpha=0.6)\n",
    "df[df['Category']=='Medical']['title_len'].plot(kind='hist', color='red', \n",
    "                                       label='Medical', alpha=0.6)\n",
    "plt.legend()\n",
    "plt.xlabel(\"Title Length\")"
   ]
  },
  {
   "cell_type": "code",
   "execution_count": 23,
   "metadata": {},
   "outputs": [
    {
     "data": {
      "text/plain": [
       "count    23936.000000\n",
       "mean        59.754804\n",
       "std        164.820001\n",
       "min          4.000000\n",
       "25%         47.000000\n",
       "50%         60.000000\n",
       "75%         73.000000\n",
       "max      25422.000000\n",
       "Name: title_len, dtype: float64"
      ]
     },
     "execution_count": 23,
     "metadata": {},
     "output_type": "execute_result"
    }
   ],
   "source": [
    "# calculate some statistical data for Entertainment Category\n",
    "df[df['Category']=='Entertainment']['title_len'].describe()"
   ]
  },
  {
   "cell_type": "code",
   "execution_count": 24,
   "metadata": {},
   "outputs": [
    {
     "data": {
      "text/plain": [
       "count    16772.000000\n",
       "mean        57.655557\n",
       "std        192.766039\n",
       "min          7.000000\n",
       "25%         45.000000\n",
       "50%         56.000000\n",
       "75%         68.000000\n",
       "max      24945.000000\n",
       "Name: title_len, dtype: float64"
      ]
     },
     "execution_count": 24,
     "metadata": {},
     "output_type": "execute_result"
    }
   ],
   "source": [
    "# calculate some statistical data for Technology Category\n",
    "df[df['Category']=='Technology']['title_len'].describe()"
   ]
  },
  {
   "cell_type": "code",
   "execution_count": 25,
   "metadata": {},
   "outputs": [
    {
     "data": {
      "text/plain": [
       "count    17670.000000\n",
       "mean        53.848387\n",
       "std         14.971898\n",
       "min          6.000000\n",
       "25%         43.000000\n",
       "50%         53.000000\n",
       "75%         64.000000\n",
       "max         91.000000\n",
       "Name: title_len, dtype: float64"
      ]
     },
     "execution_count": 25,
     "metadata": {},
     "output_type": "execute_result"
    }
   ],
   "source": [
    "# calculate some statistical data for Business Category\n",
    "df[df['Category']=='Business']['title_len'].describe()"
   ]
  },
  {
   "cell_type": "code",
   "execution_count": 26,
   "metadata": {},
   "outputs": [
    {
     "data": {
      "text/plain": [
       "count    7088.000000\n",
       "mean       54.958663\n",
       "std        15.132745\n",
       "min         4.000000\n",
       "25%        44.000000\n",
       "50%        54.000000\n",
       "75%        66.000000\n",
       "max        91.000000\n",
       "Name: title_len, dtype: float64"
      ]
     },
     "execution_count": 26,
     "metadata": {},
     "output_type": "execute_result"
    }
   ],
   "source": [
    "# calculate some statistical data for Medical Category\n",
    "df[df['Category']=='Medical']['title_len'].describe()"
   ]
  },
  {
   "cell_type": "markdown",
   "metadata": {},
   "source": [
    "For both the Entertainment Category and the Technology Category, the maximum length does not make sense"
   ]
  },
  {
   "cell_type": "code",
   "execution_count": 27,
   "metadata": {},
   "outputs": [
    {
     "data": {
      "text/html": [
       "<div>\n",
       "<style scoped>\n",
       "    .dataframe tbody tr th:only-of-type {\n",
       "        vertical-align: middle;\n",
       "    }\n",
       "\n",
       "    .dataframe tbody tr th {\n",
       "        vertical-align: top;\n",
       "    }\n",
       "\n",
       "    .dataframe thead th {\n",
       "        text-align: right;\n",
       "    }\n",
       "</style>\n",
       "<table border=\"1\" class=\"dataframe\">\n",
       "  <thead>\n",
       "    <tr style=\"text-align: right;\">\n",
       "      <th></th>\n",
       "      <th>No</th>\n",
       "      <th>News Title</th>\n",
       "      <th>Category</th>\n",
       "      <th>title_len</th>\n",
       "    </tr>\n",
       "  </thead>\n",
       "  <tbody>\n",
       "    <tr>\n",
       "      <th>53107</th>\n",
       "      <td>53163</td>\n",
       "      <td>I never thought I'd be in love” says Angelina ...</td>\n",
       "      <td>Entertainment</td>\n",
       "      <td>25422</td>\n",
       "    </tr>\n",
       "    <tr>\n",
       "      <th>62785</th>\n",
       "      <td>62853</td>\n",
       "      <td>A few years ago, scientists calculated that be...</td>\n",
       "      <td>Technology</td>\n",
       "      <td>24945</td>\n",
       "    </tr>\n",
       "    <tr>\n",
       "      <th>29126</th>\n",
       "      <td>29160</td>\n",
       "      <td>I don't know why I'm a sex symbol' says smould...</td>\n",
       "      <td>Entertainment</td>\n",
       "      <td>824</td>\n",
       "    </tr>\n",
       "    <tr>\n",
       "      <th>50496</th>\n",
       "      <td>50550</td>\n",
       "      <td>'Bachelorette' host 'fought like crazy' to fil...</td>\n",
       "      <td>Entertainment</td>\n",
       "      <td>91</td>\n",
       "    </tr>\n",
       "    <tr>\n",
       "      <th>10248</th>\n",
       "      <td>10264</td>\n",
       "      <td>LG Electronics Inc.'s share price up, posts a ...</td>\n",
       "      <td>Technology</td>\n",
       "      <td>91</td>\n",
       "    </tr>\n",
       "    <tr>\n",
       "      <th>22414</th>\n",
       "      <td>22445</td>\n",
       "      <td>Flashy 'Draft Day' doesn't let football facts ...</td>\n",
       "      <td>Entertainment</td>\n",
       "      <td>91</td>\n",
       "    </tr>\n",
       "    <tr>\n",
       "      <th>12777</th>\n",
       "      <td>12795</td>\n",
       "      <td>Movie review: 'Edge of Tomorrow' a fun, furiou...</td>\n",
       "      <td>Entertainment</td>\n",
       "      <td>91</td>\n",
       "    </tr>\n",
       "    <tr>\n",
       "      <th>62485</th>\n",
       "      <td>62553</td>\n",
       "      <td>Oscar Pistorius trial restart could be delayed...</td>\n",
       "      <td>Medical</td>\n",
       "      <td>91</td>\n",
       "    </tr>\n",
       "    <tr>\n",
       "      <th>64499</th>\n",
       "      <td>64568</td>\n",
       "      <td>Lions Gate to release 'Divergent' film finale ...</td>\n",
       "      <td>Entertainment</td>\n",
       "      <td>91</td>\n",
       "    </tr>\n",
       "    <tr>\n",
       "      <th>52075</th>\n",
       "      <td>52130</td>\n",
       "      <td>Straight talk for families on health care: The...</td>\n",
       "      <td>Business</td>\n",
       "      <td>91</td>\n",
       "    </tr>\n",
       "  </tbody>\n",
       "</table>\n",
       "</div>"
      ],
      "text/plain": [
       "          No                                         News Title  \\\n",
       "53107  53163  I never thought I'd be in love” says Angelina ...   \n",
       "62785  62853  A few years ago, scientists calculated that be...   \n",
       "29126  29160  I don't know why I'm a sex symbol' says smould...   \n",
       "50496  50550  'Bachelorette' host 'fought like crazy' to fil...   \n",
       "10248  10264  LG Electronics Inc.'s share price up, posts a ...   \n",
       "22414  22445  Flashy 'Draft Day' doesn't let football facts ...   \n",
       "12777  12795  Movie review: 'Edge of Tomorrow' a fun, furiou...   \n",
       "62485  62553  Oscar Pistorius trial restart could be delayed...   \n",
       "64499  64568  Lions Gate to release 'Divergent' film finale ...   \n",
       "52075  52130  Straight talk for families on health care: The...   \n",
       "\n",
       "            Category  title_len  \n",
       "53107  Entertainment      25422  \n",
       "62785     Technology      24945  \n",
       "29126  Entertainment        824  \n",
       "50496  Entertainment         91  \n",
       "10248     Technology         91  \n",
       "22414  Entertainment         91  \n",
       "12777  Entertainment         91  \n",
       "62485        Medical         91  \n",
       "64499  Entertainment         91  \n",
       "52075       Business         91  "
      ]
     },
     "execution_count": 27,
     "metadata": {},
     "output_type": "execute_result"
    }
   ],
   "source": [
    "# sort title_len\n",
    "df.sort_values(by=['title_len'], ascending=False).head(10)"
   ]
  },
  {
   "cell_type": "code",
   "execution_count": 28,
   "metadata": {},
   "outputs": [
    {
     "data": {
      "text/plain": [
       "\"I never thought I'd be in love” says Angelina Jolie\\thttp://www.shanghaidaily.com/article/article_xinhua.aspx\\\\?id=217113\\tShanghai Daily \\\\(subscription\\\\)\\te\\tdSK9w1sX3_u4D4MgvroyRJ-CcxxAM\\twww.shanghaidaily.com\\t1399574518790\\n195219\\tAngelina Jolie: I never thought I'd be in love but Brad Pitt and I drive each other  ...\\thttp://www.nowmagazine.co.uk/celebrity-news/552980/angelina-jolie-i-never-thought-i-d-be-in-love-but-brad-pitt-and-i-drive-each-other-beautifully-crazy\\tNow Magazine Online\\te\\tdSK9w1sX3_u4D4MgvroyRJ-CcxxAM\\twww.nowmagazine.co.uk\\t1399574519022\\n195220\\tAngelina Jolie supports kidnapped Nigerian girls and reveals secrets about love  ...\\thttp://www.standartnews.com/english/read/angelina_jolie_supports_kidnapped_nigerian_girls_and_reveals_secrets_about_love_with_brad_pitt-3582.html\\tStandart News\\te\\tdSK9w1sX3_u4D4MgvroyRJ-CcxxAM\\twww.standartnews.com\\t1399574519245\\n195221\\tAngelina Jolie Reveals Working With Daughter Vivienne On Maleficent Was 'So  ...\\thttp://www.entertainmentwise.com/news/148569/1/Brad-And-I-Were-So-Stressed-Maleficent-Star-Angelina-Jolie-Wont-Be-Working-With-Daughter-Vivienne-Again-Anytime-Soon\\tEntertainmentwise\\te\\tdSK9w1sX3_u4D4MgvroyRJ-CcxxAM\\twww.entertainmentwise.com\\t1399574519499\\n195222\\tAngelina Jolie on drugs and vials of blood: 'You're trying to find out who you are'\\thttp://www.independent.co.uk/news/people/angelina-jolie-on-drugs-and-vials-of-blood-youre-trying-to-find-out-who-you-are-9336281.html\\tThe Independent\\te\\tdSK9w1sX3_u4D4MgvroyRJ-CcxxAM\\twww.independent.co.uk\\t1399574519840\\n195223\\tAngelina: I didn't think I'd have a family\\thttp://www.belfasttelegraph.co.uk/entertainment/news/angelina-i-didnt-think-id-have-a-family-30255910.html\\tBelfast Telegraph\\te\\tdSK9w1sX3_u4D4MgvroyRJ-CcxxAM\\twww.belfasttelegraph.co.uk\\t1399574520061\\n195224\\tAngelina Jolie: 'I never thought I'd have children, I never thought I'd be in love'\\thttp://www.hellomagazine.com/celebrities/2014050817426/angelina-jolie-never-thought-she-would-find-love-interview/\\thellomagazine.com\\te\\tdSK9w1sX3_u4D4MgvroyRJ-CcxxAM\\twww.hellomagazine.com\\t1399574520401\\n195225\\tAngelina Jolie never thought she'd find love or have kids\\thttp://timesofindia.indiatimes.com/entertainment/english/hollywood/news-interviews/Angelina-Jolie-never-thought-shed-find-love-or-have-kids/articleshow/34822824.cms\\tTimes of India\\te\\tdSK9w1sX3_u4D4MgvroyRJ-CcxxAM\\ttimesofindia.indiatimes.com\\t1399574520903\\n195226\\tJolie found working with daughter stressful\\thttp://www.rte.ie/ten/news/2014/0508/615960-jolie-found-working-with-daughter-stressful/\\tRTE.ie\\te\\tdSK9w1sX3_u4D4MgvroyRJ-CcxxAM\\twww.rte.ie\\t1399574521119\\n195227\\tFinal Trailer For Disney's Maleficent\\thttp://moviepilot.com/posts/2014/05/07/final-trailer-for-disney-s-maleficent-1409162\\tmoviepilot.com\\te\\tdSK9w1sX3_u4D4MgvroyRJ-CcxxAM\\tmoviepilot.com\\t1399574521356\\n195228\\tNew Featurette For Maleficent: 'Creatures'\\thttp://moviepilot.com/posts/2014/05/07/new-featurette-for-maleficent-creatures-1409166\\tmoviepilot.com\\te\\tdSK9w1sX3_u4D4MgvroyRJ-CcxxAM\\tmoviepilot.com\\t1399574521775\\n195229\\tJolie to attend Maleficent premiere\\thttp://www.blackpoolcitizen.co.uk/uk_national_news/11199051.Jolie_to_attend_Maleficent_premiere/\\\\?ref=nt\\tBlackpool Citizen\\te\\tdSK9w1sX3_u4D4MgvroyRJ-CcxxAM\\twww.blackpoolcitizen.co.uk\\t1399574521977\\n195230\\t'I never thought I'd have children or fall in love' - Angelina Jolie opens up in rare  ...\\thttp://www.independent.ie/woman/celeb-news/i-never-thought-id-have-children-or-fall-in-love-angelina-jolie-opens-up-in-rare-tellall-interview-30255796.html\\tIrish Independent\\te\\tdSK9w1sX3_u4D4MgvroyRJ-CcxxAM\\twww.independent.ie\\t1399574522235\\n195231\\t'Brad And I Were So Stressed!': Maleficent Star Angelina Jolie Won't Be Working  ...\\thttp://www.entertainmentwise.com/news/148569/Brad-And-I-Were-So-Stressed-Maleficent-Star-Angelina-Jolie-Wont-Be-Working-With-Daughter-Vivienne-Again-Anytime-Soon\\tEntertainmentwise\\te\\tdSK9w1sX3_u4D4MgvroyRJ-CcxxAM\\twww.entertainmentwise.com\\t1399574522465\\n195232\\t'I never thought I would meet the right person'\\thttp://www.abplive.in/movies/2014/05/08/article309071.ece/%E2%80%98I-never-thought-I-would-meet-the-right-person%E2%80%99\\tABP News\\te\\tdSK9w1sX3_u4D4MgvroyRJ-CcxxAM\\twww.abplive.in\\t1399574523168\\n195233\\tAngelina Jolie Is Surprised By How Her Life Ended Up\\thttp://empowerednews.net/angelina-jolie-is-surprised-by-how-her-life-ended-up/1849334/\\tEmpowered News\\te\\tdSK9w1sX3_u4D4MgvroyRJ-CcxxAM\\tempowerednews.net\\t1399574523433\\n195234\\tI never thought I would meet the right person: Angelina Jolie on Brad Pitt\\thttp://indianexpress.com/article/entertainment/bollywood/i-never-thought-i-would-meet-the-right-person-angelina-jolie-on-brad-pitt/\\tIndian Express\\te\\tdSK9w1sX3_u4D4MgvroyRJ-CcxxAM\\tindianexpress.com\\t1399574523668\\n195235\\tI never thought I would meet the right person: Angelina Jolie\\thttp://www.deccanchronicle.com/140508/entertainment-hollywood/article/i-never-thought-i-would-meet-right-person-angelina-jolie\\tDeccan Chronicle\\te\\tdSK9w1sX3_u4D4MgvroyRJ-CcxxAM\\twww.deccanchronicle.com\\t1399574523927\\n195236\\tAngelina Jolie: 'I Never Thought I'd Meet the Right Person'\\thttp://www.aceshowbiz.com/news/view/00070744.html\\tAceShowbiz\\te\\tdSK9w1sX3_u4D4MgvroyRJ-CcxxAM\\twww.aceshowbiz.com\\t1399574524113\\n195237\\tAngelina Jolie is Mommy 'Maleficent'\\thttp://dailydigestnews.com/2014/05/angelina-jolie-is-mommy-maleficent/\\tDaily Digest\\te\\tdSK9w1sX3_u4D4MgvroyRJ-CcxxAM\\tdailydigestnews.com\\t1399574524482\\n195238\\tAngelina Jolie never thought she`d find love or have kids\\thttp://zeenews.india.com/entertainment/celebrity/angelina-jolie-never-thought-she-d-find-love-or-have-kids_154696.html\\tZee News\\te\\tdSK9w1sX3_u4D4MgvroyRJ-CcxxAM\\tzeenews.india.com\\t1399574524750\\n195239\\tAngelina Jolie on her 'Shadow' Vivienne, Why Shiloh Laughed at her Face, and  ...\\thttp://au.ibtimes.com/articles/551722/20140508/angelina-jolie-brad-pitt-vivienne-shiloh-maleficent.htm\\tInternational Business Times AU\\te\\tdSK9w1sX3_u4D4MgvroyRJ-CcxxAM\\tau.ibtimes.com\\t1399574524983\\n195240\\tAngelina Jolie: 'I never thought I'd be in love'\\thttp://www.smh.com.au/lifestyle/celebrity/angelina-jolie-i-never-thought-id-be-in-love-20140508-zr6tb.html\\tSydney Morning Herald\\te\\tdSK9w1sX3_u4D4MgvroyRJ-CcxxAM\\twww.smh.com.au\\t1399574525337\\n195241\\tAngelina Jolie Elle Interview Reveals Intimate Details About Brad Pitt & Family  ...\\thttp://www.latinospost.com/articles/36735/20140508/angelina-jolie-elle-interview-reveals-intimate-details-brad-pitt-family.htm\\tLatinos Post\\te\\tdSK9w1sX3_u4D4MgvroyRJ-CcxxAM\\twww.latinospost.com\\t1399574525590\\n195242\\tAngelina Jolie Celebrates Love (And New Movie) With Elle Cover And Interview\\thttp://www.contactmusic.com/article/angelina-jolie-elle-cover-interview-brad-pitt-maleficent_4184594\\tContactmusic.com\\te\\tdSK9w1sX3_u4D4MgvroyRJ-CcxxAM\\twww.contactmusic.com\\t1399574525798\\n195243\\tAngelina Jolie Admits She Never Thought She'd Have Children or Meet the  ...\\thttp://www.fashiontimes.com/articles/6572/20140508/angelina-jolie-admits-she-never-thought-shed-have-children-or-meet-the-right-person.htm\\tFashion Times\\te\\tdSK9w1sX3_u4D4MgvroyRJ-CcxxAM\\twww.fashiontimes.com\\t1399574526008\\n195244\\tAngelina Jolie was moved by 'Maleficent' script\\thttp://indianexpress.com/article/entertainment/hollywood/angelina-jolie-was-moved-by-maleficent-script/\\tIndian Express\\te\\tdSK9w1sX3_u4D4MgvroyRJ-CcxxAM\\tindianexpress.com\\t1399574526451\\n195245\\tMAC & Maleficent collection hits the web May 8\\thttps://ph.celebrity.yahoo.com/news/mac-maleficent-collection-hits-may-8-100034848.html\\tYahoo Philippines News\\te\\tdSK9w1sX3_u4D4MgvroyRJ-CcxxAM\\tph.celebrity.yahoo.com\\t1399574526651\\n195246\\tThis 'Maleficent' Preview Offers a Stirring Recreation of an Iconic Disney Moment  ...\\thttp://news.moviefone.com/2014/05/08/maleficent-preview-video/\\tMoviefone\\te\\tdSK9w1sX3_u4D4MgvroyRJ-CcxxAM\\tnews.moviefone.com\\t1399574526898\\n195247\\tSummer Movies | The flicks worth catching\\thttp://hamptonroads.com/2014/05/summer-movies-flicks-worth-catching\\tThe Virginian-Pilot\\te\\tdSK9w1sX3_u4D4MgvroyRJ-CcxxAM\\thamptonroads.com\\t1399574527175\\n195248\\tAngelina Jolie on Brad Pitt: We 'drive each other beautifully crazy'\\thttp://dailydigestnews.com/2014/05/angelina-jolie-on-brad-pitt-we-drive-each-other-beautifully-crazy/\\tDaily Digest\\te\\tdSK9w1sX3_u4D4MgvroyRJ-CcxxAM\\tdailydigestnews.com\\t1399574527667\\n195249\\tAngelina Jolie Never Thought She'd Have Children Or Fall In Love\\thttp://www.starpulse.com/news/Kevin_Blair/2014/05/07/angelina_jolie_never_thought_shed_have\\tStarpulse.com\\te\\tdSK9w1sX3_u4D4MgvroyRJ-CcxxAM\\twww.starpulse.com\\t1399574527868\\n195250\\tAngelina Jolie Worried She Would Never Have Children, Be in Love or Meet the  ...\\thttp://thejetnewspaper.com/2014/05/08/angelina-jolie-worried-she-would-never-have-children-be-in-love-or-meet-the-right-person/\\tThe Jet Newspaper\\te\\tdSK9w1sX3_u4D4MgvroyRJ-CcxxAM\\tthejetnewspaper.com\\t1399574528086\\n195251\\t'Maleficent' Gets A Final Trailer And A 'Creatures' Featurette\\thttp://sciencefiction.com/2014/05/07/maleficent-gets-final-trailer-creatures-featurette/\\tScience Fiction\\te\\tdSK9w1sX3_u4D4MgvroyRJ-CcxxAM\\tsciencefiction.com\\t1399574528413\\n195252\\t'I didn't think I'd have a family': Angelina\\thttp://www.dailylife.com.au/lifestyle/celebrity/mag-watch/i-didnt-think-id-have-a-family-angelina-20140508-zr6oo.html\\tDaily Life\\te\\tdSK9w1sX3_u4D4MgvroyRJ-CcxxAM\\twww.dailylife.com.au\\t1399574528631\\n195253\\tAngelina Jolie Condemns Kidnappings of 200 Nigerian Schoolgirls, Calls it an  ...\\thttp://au.ibtimes.com/articles/551626/20140508/angelina-jolie-nigerian-kidnapping-schoolgirls-unthinkable-cruelty.htm\\tInternational Business Times AU\\te\\tdSK9w1sX3_u4D4MgvroyRJ-CcxxAM\\tau.ibtimes.com\\t1399574528877\\n195254\\t'Maleficent': Angelina Jolie rules over 5 moody new character posters\\thttp://www.hitfix.com/news/maleficent-angelina-jolie-rules-over-5-moody-new-character-posters\\tHitFix\\te\\tdSK9w1sX3_u4D4MgvroyRJ-CcxxAM\\twww.hitfix.com\\t1399574529074\\n195255\\tIn the lead up to the film's release, Disney has debuted the final trailer for its  ...\\thttp://moviehole.net/201476024final-trailer-maleficent\\tMoviehole\\te\\tdSK9w1sX3_u4D4MgvroyRJ-CcxxAM\\tmoviehole.net\\t1399574529390\\n195256\\tAngelina Jolie Talks Brad Pitt and Marriage Plans\\thttp://au.ibtimes.com/articles/551619/20140508/angelina-jolie-brad-pitt-marriage-plans-fairytale.htm\\tInternational Business Times AU\\te\\tdSK9w1sX3_u4D4MgvroyRJ-CcxxAM\\tau.ibtimes.com\\t1399574529627\\n195257\\tAngelina Jolie never expected love and children\\thttp://www.mercurynews.com/entertainment/ci_25716661/angelina-jolie-never-expected-love-and-children\\tSan Jose Mercury News\\te\\tdSK9w1sX3_u4D4MgvroyRJ-CcxxAM\\twww.mercurynews.com\\t1399574530336\\n195258\\tAngelina Jolie On Wild Child To Mom Evolution, Brad Pitt Wedding Plans\\thttp://popdust.com/2014/05/07/angelina-jolie-wedding-drugs-heroin-sex-kids-brad-pitt-elle/\\tPopdust\\te\\tdSK9w1sX3_u4D4MgvroyRJ-CcxxAM\\tpopdust.com\\t1399574530525\\n195259\\tAngelina Jolie Speaks Out About Nigerian Schoolgirl Kidnappings\\thttp://www.thefrisky.com/2014-05-06/angelina-jolie-speaks-out-about-nigerian-schoolgirl-kidnappings/\\tThe Frisky\\te\\tdSK9w1sX3_u4D4MgvroyRJ-CcxxAM\\twww.thefrisky.com\\t1399574530925\\n195260\\tAngelina Jolie Opens Up On Glittering Career: I'd Be 'Miserable' Living Without  ...\\thttp://www.entertainmentwise.com/news/148558/Angelina-Jolie-Opens-Up-On-Glittering-Career-Id-Be-Miserable-Living-Without-Full-Potential\\tEntertainmentwise\\te\\tdSK9w1sX3_u4D4MgvroyRJ-CcxxAM\\twww.entertainmentwise.com\\t1399574531127\\n195261\\tAngelina Jolie In Stunning Elle Shoot As She Opens Up On Love, Children, And  ...\\thttp://www.contactmusic.com/article/angelina-jolie-cover-of-elle-magazine-interview-maleficent_4183883\\tContactmusic.com\\te\\tdSK9w1sX3_u4D4MgvroyRJ-CcxxAM\\twww.contactmusic.com\\t1399574531462\\n195262\\tAngelina Jolie & Brad Pitt: 'Maleficent' Star & Fiance 'Drive Each Other  ...\\thttp://www.enstarz.com/articles/37589/20140507/angelina-jolie-brad-pitt-maleficent-star-fiance-drive-each-other-beautifully-crazy.htm\\tEnstarz\\te\\tdSK9w1sX3_u4D4MgvroyRJ-CcxxAM\\twww.enstarz.com\\t1399574531736\\n195263\\t#BringBackOurGirls\\thttp://www.elleuk.com/star-style/news/angelina-jolie-supports-bringbackourgirls-campaign-support-kidnapped-girls-nigeria\\tELLE UK\\te\\tdSK9w1sX3_u4D4MgvroyRJ-CcxxAM\\twww.elleuk.com\\t1399574532325\\n195264\\tAngelina Jolie Speaks Out On Nigerian Schoolgirl Kidnappings: 'It's An  ...\\thttp://www.entertainmentwise.com/news/148511/1/Angelina-Jolie-Speaks-Out-On-Nigerian-Schoolgirl-Kidnappings-Its-An-Unthinkable-Cruelty\\tEntertainmentwise\\te\\tdSK9w1sX3_u4D4MgvroyRJ-CcxxAM\\twww.entertainmentwise.com\\t1399574532628\\n195265\\tElle Fanning Is Clearly The Key To Angelina Jolie's Happiness\\thttp://www.huffingtonpost.com/2014/05/06/angelina-jolie-elle-fanning_n_5275436.html\\\\?utm_hp_ref=entertainment&amp;ir=Entertainment\\tHuffington Post\\te\\tdSK9w1sX3_u4D4MgvroyRJ-CcxxAM\\twww.huffingtonpost.com\\t1399574532937\\n195266\\tFans Can't Tell the Difference Between 'Maleficent' and 'Snow White and the  ...\\thttp://www.zimbio.com/Maleficent/articles/HDrZZ2PdzeS/Fans+Can+t+Tell+Difference+Between+Maleficent\\tZimbio\\te\\tdSK9w1sX3_u4D4MgvroyRJ-CcxxAM\\twww.zimbio.com\\t1399574533609\\n195267\\t'Maleficent' Gets an IMAX Poster and Five Weak Character Posters\\thttp://www.firstshowing.net/2014/maleficent-gets-an-imax-poster-and-five-weak-character-posters/\\tFirst Showing\\te\\tdSK9w1sX3_u4D4MgvroyRJ-CcxxAM\\twww.firstshowing.net\\t1399574534030\\n195268\\tThis Is How Dior Does Brooklyn: Photos From the Navy Yard Show\\thttp://ny.racked.com/archives/2014/05/08/22_images_from_the_dior_resort_show_at_brooklyn_navy_yard.php\\tRacked NY\\te\\tdLkyahw0p17xu3MCtVyOvNMWq7RjM\\tny.racked.com\\t1399575146400\\n195269\\tRihanna, Marion Cotillard and More Schlep to Brooklyn for Dior\\thttp://www.elle.com/news/fashion-style/dior-resort-brooklyn-front-row\\tElle\\te\\tdLkyahw0p17xu3MCtVyOvNMWq7RjM\\twww.elle.com\\t1399575146596\\n195270\\tDior Cruise Debuts Double-Decker Eyeliner and Peter Philips\\thttp://nymag.com/thecut/2014/05/dior-cruise-beauty-double-decker-eyeliner.html\\tNew York Magazine\\te\\tdLkyahw0p17xu3MCtVyOvNMWq7RjM\\tnymag.com\\t1399575146842\\n195271\\tRihanna Is Pretty in Pink at Dior Show\\thttp://www.rap-up.com/2014/05/08/rihanna-is-pretty-in-pink-at-dior-show/\\tRap-Up.com\\te\\tdLkyahw0p17xu3MCtVyOvNMWq7RjM\\twww.rap-up.com\\t1399575147108\\n195272\\tDior's Soft, Dynamic Cruise Collection\\thttp://nymag.com/thecut/2014/05/diors-soft-dynamic-cruise-collection.html\\tNew York Magazine\\te\\tdLkyahw0p17xu3MCtVyOvNMWq7RjM\\tnymag.com\\t1399575147345\\n195273\\tDior Takes Brooklyn, Brings Rihanna With It\\thttp://www.refinery29.com/2014/05/67589/dior-resort-2015-show\\tRefinery29\\te\\tdLkyahw0p17xu3MCtVyOvNMWq7RjM\\twww.refinery29.com\\t1399575147597\\n195274\\tSo, we need to talk about Rihanna's out-of-control baby hair situation...\\thttp://entertainthis.usatoday.com/2014/05/08/rihanna-baby-hair-jennifer-lopez-chilli-lil-kim-brandy-ginuwine-da-brat/\\tUSA TODAY\\te\\tdLkyahw0p17xu3MCtVyOvNMWq7RjM\\tentertainthis.usatoday.com\\t1399575147816\\n195275\\tDior Cruise Collection: Brooklyn, Rihanna, and More Ugly Shoes\\thttp://www.stylecaster.com/dior-cruise-collection-2015/\\tStyleCaster\\te\\tdLkyahw0p17xu3MCtVyOvNMWq7RjM\\twww.stylecaster.com\\t1399575148214\\n195276\\tThe Dior Cruise Show Sets Sail With Rihanna and a Star-Filled Crew. Ahoy!\\thttp://www.glamour.com/fashion/blogs/dressed/2014/05/the-dior-cruise-show-sets-sail.html\\tGlamour \\\\(blog\\\\)\\te\\tdLkyahw0p17xu3MCtVyOvNMWq7RjM\\twww.glamour.com\\t1399575148561\\n195277\\tRihanna Wears Pink And Pearls At Dior Cruise Show\\thttp://style.mtv.com/2014/05/08/rihanna-pink-pearls-dior-cruise-fashion-show/\\tMTV.com\\te\\tdLkyahw0p17xu3MCtVyOvNMWq7RjM\\tstyle.mtv.com\\t1399575148802\\n195278\\tRihanna rocks pretty pastel pink at the Dior Cruise 2015 Show In New York - Pics\\thttp://www.sugarscape.com/main-topics/fashion-beauty/1037342/rihanna-rocks-pretty-pastel-pink-dior-cruise-2015-show-new-york-p\\tSugarscape\\te\\tdLkyahw0p17xu3MCtVyOvNMWq7RjM\\twww.sugarscape.com\\t1399575149031\\n195279\\tThis is What a Dior Ferry Looks Like (Bonus: Dior Brought Its Own Sailorboys Too)\\thttp://www.thefashionspot.com/buzz-news/latest-news/404287-this-is-what-a-dior-ferry-looks-like-bonus-dior-brought-its-own-sailorboys-too/\\tThe Fashion Spot\\te\\tdLkyahw0p17xu3MCtVyOvNMWq7RjM\\twww.thefashionspot.com\\t1399575149414\\n195280\\tThey Are Saying Today\\thttp://www.wwd.com/media-news/media-features/they-are-saying-today-05082014-7673989\\\\?module=hp-topstories\\tWomen's Wear Daily\\te\\tdLkyahw0p17xu3MCtVyOvNMWq7RjM\\twww.wwd.com\\t1399575149734\\n195281\\tRihanna goes from flashing to fashion with Lady Dior\\thttp://www.handbag.com/shopping-bag/news/a414403/rihanna-goes-from-flashing-to-fashion-with-lady-dior.html\\thandbag.com\\te\\tdLkyahw0p17xu3MCtVyOvNMWq7RjM\\twww.handbag.com\\t1399575149967\\n195282\\tRihanna Gets 'Pretty In Pink' For Christian Dior Cruise 2015 Show\\thttp://www.huffingtonpost.com/2014/05/08/rihanna-dior-cruise-show_n_5287731.html\\tHuffington Post\\te\\tdLkyahw0p17xu3MCtVyOvNMWq7RjM\\twww.huffingtonpost.com\\t1399575150159\\n195283\\tGallery: Dior Cruise 2015\\thttp://www.windsorstar.com/life/fashionshows/others/Gallery+Dior+Cruise+2015/9818766/story.html\\tWindsor Star \\\\(blog\\\\)\\te\\tdLkyahw0p17xu3MCtVyOvNMWq7RjM\\twww.windsorstar.com\\t1399575150405\\n195284\\tRihanna Takes A Flirty, Extra Feminine Turn With Her Style At The Dior Cruise  ...\\thttp://perezhilton.com/cocoperez/2014-05-08-rihanna-dior-cruise-2015-fashion-show-duggal-greenhouse-pink-dress-new-york\\tPerezHilton.com\\te\\tdLkyahw0p17xu3MCtVyOvNMWq7RjM\\tperezhilton.com\\t1399575150848\\n195285\\tCruise 2015: Plain sailing from Raf Simons' Dior\\thttp://blogs.independent.co.uk/2014/05/08/cruise-2015-plain-sailing-from-raf-simons-dior/\\tThe Independent \\\\(blog\\\\)\\te\\tdLkyahw0p17xu3MCtVyOvNMWq7RjM\\tblogs.independent.co.uk\\t1399575151067\\n195286\\tWhat A Rare Sight To See! RiRi Gets Rih-Served For Dior Show (PHOTOS)\\thttp://globalgrind.com/2014/05/08/rihanna-dior-fashion-show-photos/\\tGlobal Grind\\te\\tdLkyahw0p17xu3MCtVyOvNMWq7RjM\\tglobalgrind.com\\t1399575151299\\n195287\\tRihanna Looked Perfectly Ladylike at the Dior Cruise Show\\thttp://nymag.com/thecut/2014/05/rihanna-looked-perfectly-ladylike-in-brooklyn.html\\tNew York Magazine\\te\\tdLkyahw0p17xu3MCtVyOvNMWq7RjM\\tnymag.com\\t1399575151561\\n195288\\tMarion Cotillard balances huge Dior dress with a tiny Lady Dior bag\\thttp://www.handbag.com/shopping-bag/news/a569564/marion-cotillard-balances-huge-dior-dress-with-a-tiny-lady-dior-bag.html\\thandbag.com\\te\\tdLkyahw0p17xu3MCtVyOvNMWq7RjM\\twww.handbag.com\\t1399575151862\\n195289\\tRihanna and Marion Cotillard dazzle at star-studded Dior show\\thttp://www.standard.co.uk/lifestyle/fashion/rihanna-and-marion-cotillard-dazzle-at-starstudded-dior-show-9336167.html\\tEvening Standard\\te\\tdLkyahw0p17xu3MCtVyOvNMWq7RjM\\twww.standard.co.uk\\t1399575152163\\n195290\\tDior unveils Cruise 2015 collection in New York\\thttp://www.fibre2fashion.com/news/fashion-news/newsdetails.aspx\\\\?news_id=163161\\tFibre2fashion.com\\te\\tdLkyahw0p17xu3MCtVyOvNMWq7RjM\\twww.fibre2fashion.com\\t1399575152391\\n195291\\tDior Cruise 2015 Presentation at New York's Brooklyn Navy Yard\\thttp://senatus.net/album/view/12072/\\tSENATUS\\te\\tdLkyahw0p17xu3MCtVyOvNMWq7RjM\\tsenatus.net\\t1399575152742\\n195292\\tRihanna goes demure in pink dress at Dior Cruise Fashion Show in Brooklyn\\thttp://www.dailymail.co.uk/tvshowbiz/article-2622967/Racy-Rihanna-goes-demure-pink-dress-Dior-Cruise-Fashion-Show-Brooklyn.html\\tDaily Mail\\te\\tdLkyahw0p17xu3MCtVyOvNMWq7RjM\\twww.dailymail.co.uk\\t1399575152943\\n195293\\tWell, This Is Certainly A New Look For Rihanna\\thttp://www.marieclaire.co.uk/news/celebrity/546403/well-this-is-certainly-a-new-look-for-rihanna.html\\tMarie Claire.co.uk\\te\\tdLkyahw0p17xu3MCtVyOvNMWq7RjM\\twww.marieclaire.co.uk\\t1399575153259\\n195294\\t[TICON-A SLIDESHOW] Rihanna ditches the shock factor and opts for demure in  ...\\thttp://www.independent.ie/woman/fashion/rihanna-ditches-the-shock-factor-and-opts-for-demure-in-new-york-30256062.html\\tIrish Independent\\te\\tdLkyahw0p17xu3MCtVyOvNMWq7RjM\\twww.independent.ie\\t1399575153603\\n195295\\tRihanna Dazzles in a Pink Dress at Dior Cruise Fashion Show\\thttp://www.aceshowbiz.com/news/view/00070766.html\\tAceShowbiz\\te\\tdLkyahw0p17xu3MCtVyOvNMWq7RjM\\twww.aceshowbiz.com\\t1399575153841\\n195296\\tRihanna covers up (for once!) in ladylike pink dress at Dior fashion show\\thttp://www.reveal.co.uk/fashion/news/a569498/rihanna-covers-up-for-once-in-ladylike-pink-dress-at-dior-fashion-show.html\\tReveal\\te\\tdLkyahw0p17xu3MCtVyOvNMWq7RjM\\twww.reveal.co.uk\\t1399575154058\\n195297\\tRihanna Does Demure At The Dior Cruise Show\\thttp://www.instyle.co.uk/celebrity/news/rihanna-does-demure-at-the-dior-cruise-show\\tinstyle.co.uk\\te\\tdLkyahw0p17xu3MCtVyOvNMWq7RjM\\twww.instyle.co.uk\\t1399575154286\\n195298\\tRihanna Turns Into A Demure Dior Darling, And We Love\\thttp://www.look.co.uk/fashion/rihanna-turns-into-a-demure-dior-darling-and-we-love\\tLOOK\\te\\tdLkyahw0p17xu3MCtVyOvNMWq7RjM\\twww.look.co.uk\\t1399575154774\\n195299\\tRihanna's ladylike elegance\\thttps://ph.celebrity.yahoo.com/news/rihannas-ladylike-elegance-010000541.html\\tYahoo Philippines News\\te\\tdLkyahw0p17xu3MCtVyOvNMWq7RjM\\tph.celebrity.yahoo.com\\t1399575155090\\n195300\\tRihanna Masters The Art Of Pastel Pink At Christian Dior Cruise Fashion Show\\thttp://www.mydaily.co.uk/2014/05/08/rihanna-wears-pastel-pink-at-christian-dior-cruise-fashion-show/\\tMyDaily UK\\te\\tdLkyahw0p17xu3MCtVyOvNMWq7RjM\\twww.mydaily.co.uk\\t1399575155439\\n195301\\tFront Row at Dior Cruise 2015\\thttp://www.wwd.com/runway/resort-2015/fashion-scoops/christian-dior\\\\?module=Fashion-Fashion%20Scoops-main\\tWomen's Wear Daily\\te\\tdLkyahw0p17xu3MCtVyOvNMWq7RjM\\twww.wwd.com\\t1399575156047\\n195302\\tDior Cruise 2015\\thttp://www.wwd.com/runway/resort-2015/review/christian-dior\\\\?module=hp-hero-topstories\\tWomen's Wear Daily\\te\\tdLkyahw0p17xu3MCtVyOvNMWq7RjM\\twww.wwd.com\\t1399575156326\\n195303\\tMargot Robbie & Marion Cotillard Check Out Dior's Designs!\\thttp://www.justjared.com/2014/05/07/margot-robbie-marion-cotillard-check-out-diors-designs/\\tJust Jared\\te\\tdLkyahw0p17xu3MCtVyOvNMWq7RjM\\twww.justjared.com\\t1399575156905\\n195304\\tJennifer Lawrence Reveals She Voted For Oscar Rival Lupita Nyong'o To Win: 'It  ...\\thttp://www.entertainmentwise.com/news/148657/Jennifer-Lawrence-Reveals-She-Voted-For-Oscar-Rival-Lupita-Nyongo-To-Win-It-Was-So-Well-Deserved\\tEntertainmentwise\\te\\tdb1AQsUsD367rzMeO598Hy8HcBk4M\\twww.entertainmentwise.com\\t1399575406073\\n195305\\tJennifer Lawrence reveals that space keeps her relationship strong\\thttp://www.dailymail.co.uk/tvshowbiz/article-2623559/Jennifer-Lawrence-reveals-having-space-keeps-relationship-strong-poses-stunning-shoot.html\\tDaily Mail\\te\\tdb1AQsUsD367rzMeO598Hy8HcBk4M\\twww.dailymail.co.uk\\t1399575406272\\n195306\\tWatch Jennifer Lawrence Dance During Her Marie Claire Photoshoot (VIDEO)\\thttp://www.wetpaint.com/jennifer-lawrence/video/2014-05-08-dances-marie-claire-cover-photoshoot\\tWetpaint\\te\\tdb1AQsUsD367rzMeO598Hy8HcBk4M\\twww.wetpaint.com\\t1399575406808\\n195307\\tJennifer Lawrence Voted For Lupita Nyong'o At Oscars\\thttp://www.accesshollywood.com/jennifer-lawrence-voted-for-lupita-nyongo-at-oscars_article_93919\\tAccess Hollywood\\te\\tdb1AQsUsD367rzMeO598Hy8HcBk4M\\twww.accesshollywood.com\\t1399575407050\\n195308\\tPerez Recommends\\thttp://perezhilton.com/2014-05-08-perez-recommends-seinfeld-stewart-fey-more-salute-insult-master-don-rickles-the-night%E2%80%99s-best-jokes\\tPerezHilton.com\\te\\tdb1AQsUsD367rzMeO598Hy8HcBk4M\\tperezhilton.com\\t1399575407335\\n195309\\tJennifer Lawrence Voted For Lupita Nyong'o To Win An Oscar\\thttp://www.huffingtonpost.com/2014/05/08/jennifer-lawrence-lupita-nyongo_n_5288351.html\\\\?utm_hp_ref=entertainment\\tHuffington Post\\te\\tdb1AQsUsD367rzMeO598Hy8HcBk4M\\twww.huffingtonpost.com\\t1399575407570\\n195310\\tJennifer Lawrence On Nicholas Hoult: We 'Know That We Have Each Other'\\thttp://hollywoodlife.com/2014/05/08/jennifer-lawrence-nicholas-hoult-interview-2014-marie-claire/\\tHollywood Life\\te\\tdb1AQsUsD367rzMeO598Hy8HcBk4M\\thollywoodlife.com\\t1399575407910\\n195311\\tJennifer Lawrence Covers Marie Claire, Says Tripping Incident on Oscars Red  ...\\thttp://www.thefashionspot.com/buzz-news/latest-news/404441-jennifer-lawrence-marie-claire/\\tThe Fashion Spot\\te\\tdb1AQsUsD367rzMeO598Hy8HcBk4M\\twww.thefashionspot.com\\t1399575408206\\n195312\\tJennifer Lawrence: 'I'm way too annoying'\\thttp://www.nydailynews.com/entertainment/gossip/jennifer-lawrence-annoying-article-1.1784631\\tNew York Daily News\\te\\tdb1AQsUsD367rzMeO598Hy8HcBk4M\\twww.nydailynews.com\\t1399575408410\\n195313\\tJennifer Lawrence: 'Nobody can stay beloved forever'\\thttp://www.latimes.com/entertainment/gossip/la-et-mg-jennifer-lawrence-nicholas-hoult-backlash-gif-falling-marie-claire-20140508-story.html\\tLos Angeles Times\\te\\tdb1AQsUsD367rzMeO598Hy8HcBk4M\\twww.latimes.com\\t1399575408725\\n195314\\tJennifer Lawrence Doesn't Look So Worried Over Lindsay Lohan's Accusation  ...\\thttp://perezhilton.com/cocoperez/2014-05-08-jennifer-lawrence-marie-claire-june-2014-cover-spread-lindsay-lohan-sex-for-roles\\tPerezHilton.com\\te\\tdb1AQsUsD367rzMeO598Hy8HcBk4M\\tperezhilton.com\\t1399575408930\\n195315\\tJennifer Lawrence Opens Up About Relationship With Nicholas Hoult\\thttp://www.etcanada.com/blogs/etc_95620/jennifer-lawrence-opens-up-about-relationship-with-nicholas-hoult/film/\\tETCanada.com \\\\(blog\\\\)\\te\\tdb1AQsUsD367rzMeO598Hy8HcBk4M\\twww.etcanada.com\\t1399575409221\\n195316\\tJennifer Lawrence Addresses Her Rumored Love Triangle With Nicholas Hoult  ...\\thttp://perezhilton.com/2014-05-08-jennifer-lawrence-slams-kristen-stewart-feud-rumors-and-avoids-talking-to-nicholas-hoult-when-busy\\tPerezHilton.com\\te\\tdb1AQsUsD367rzMeO598Hy8HcBk4M\\tperezhilton.com\\t1399575409440\\n195317\\tJennifer Lawrence Talks Nicholas Hoult & Kristen Stewart with 'Marie Claire'\\thttp://www.justjaredjr.com/2014/05/08/jennifer-lawrence-talks-nicholas-hoult-kristen-stewart-with-marie-claire/\\tJust Jared Jr.\\te\\tdb1AQsUsD367rzMeO598Hy8HcBk4M\\twww.justjaredjr.com\\t1399575409680\\n195318\\tJennifer Lawrence on Her Rise to Fame: Nobody Can Stay Beloved Forever  ...\""
      ]
     },
     "execution_count": 28,
     "metadata": {},
     "output_type": "execute_result"
    }
   ],
   "source": [
    "# find title which have 25422 characters\n",
    "df.iloc[53107,1]"
   ]
  },
  {
   "cell_type": "code",
   "execution_count": 29,
   "metadata": {
    "scrolled": true
   },
   "outputs": [
    {
     "data": {
      "text/plain": [
       "'A few years ago, scientists calculated that benefit as having a net present value  ...\\thttp://theenergycollective.com/josephromm/367921/climate-panel-stunner-avoiding-climate-catastrophe-super-cheap-only-if-we-act-now\\tEnergy Collective\\tt\\tdPhzj-Zymt7_2fMuSkTFhziYo3U0M\\ttheenergycollective.com\\t1397513703600\\n113084\\tTime Is Running Out … and Five Other Takeaways From the UN\\'s Global  ...\\thttp://www.nationaljournal.com/energy/time-is-running-out-and-five-other-takeaways-from-the-u-n-s-global-warming-report-20140414\\tNational Journal\\tt\\tdPhzj-Zymt7_2fMuSkTFhziYo3U0M\\twww.nationaljournal.com\\t1397513703854\\n113085\\tStep up action to curb global warming, or risks rise: UN\\thttp://www.reuters.com/article/2014/04/13/us-climatechange-un-idUSBREA3C06020140413\\tReuters\\tt\\tdPhzj-Zymt7_2fMuSkTFhziYo3U0M\\twww.reuters.com\\t1397513704071\\n113086\\tDire UN Climate Reports Raise Questions About Global Willpower\\thttp://news.nationalgeographic.com/news/2014/04/140414-ipcc-impacts-future-climate-science/\\tNational Geographic\\tt\\tdPhzj-Zymt7_2fMuSkTFhziYo3U0M\\tnews.nationalgeographic.com\\t1397513704260\\n113087\\tNo option left but to suck CO2 out of air, says IPCC\\thttp://www.newscientist.com/article/dn25413-no-option-left-but-to-suck-co2-out-of-air-says-ipcc.html\\tNew Scientist\\tt\\tdPhzj-Zymt7_2fMuSkTFhziYo3U0M\\twww.newscientist.com\\t1397513704550\\n113088\\tIPCC: Mitigating Climate Change More Challenging Than Ever\\thttp://news.sciencemag.org/climate/2014/04/ipcc-mitigating-climate-change-more-challenging-ever\\tScience  AAAS\\tt\\tdPhzj-Zymt7_2fMuSkTFhziYo3U0M\\tnews.sciencemag.org\\t1397513704763\\n113089\\tUN Experts Issue Dire Warning about Climate Change\\thttp://www.enewspf.com/opinion/commentary/51995-un-experts-issue-dire-warning-about-climate-change.html\\teNews Park Forest\\tt\\tdPhzj-Zymt7_2fMuSkTFhziYo3U0M\\twww.enewspf.com\\t1397513704990\\n113090\\t\\'High Speed Mitigation Train Needs to Leave the Station,\\' Concludes Long  ...\\thttp://www.enewspf.com/latest-news/science/science-a-environmental/51996-high-speed-mitigation-train-needs-to-leave-the-station-concludes-long-awaited-un-climate-report.html\\teNews Park Forest\\tt\\tdPhzj-Zymt7_2fMuSkTFhziYo3U0M\\twww.enewspf.com\\t1397513705472\\n113091\\tThe Main Climate Change Question: When Do You Want to Pay For It, And How?\\thttp://www.thewire.com/politics/2014/04/the-main-climate-change-question-when-do-you-want-to-pay-for-it-and-how/360621/\\tThe Wire\\tt\\tdPhzj-Zymt7_2fMuSkTFhziYo3U0M\\twww.thewire.com\\t1397513705668\\n113092\\tTop takeaways from the latest IPCC report\\thttp://www.edf.org/blog/2014/04/14/top-takeaways-latest-ipcc-report\\tEnvironmental Defense Fund \\\\(blog\\\\)\\tt\\tdPhzj-Zymt7_2fMuSkTFhziYo3U0M\\twww.edf.org\\t1397513705928\\n113093\\tWorld falling behind on climate change, U.N. panel says\\thttp://www.upi.com/Top_News/World-News/2014/04/14/World-falling-behind-on-climate-change-UN-panel-says/9191397488040/\\tUPI.com\\tt\\tdPhzj-Zymt7_2fMuSkTFhziYo3U0M\\twww.upi.com\\t1397513706129\\n113094\\tEdenhofer: Climate protection a \\'task that can be solved\\'\\thttp://www.dw.de/edenhofer-climate-protection-a-task-that-can-be-solved/a-17565722\\tDeutsche Welle\\tt\\tdPhzj-Zymt7_2fMuSkTFhziYo3U0M\\twww.dw.de\\t1397513706302\\n113095\\tWorld must turn to wind and solar to combat global warming, report says\\thttp://www.catholic.org/news/green/story.php\\\\?id=54933\\tCatholic Online\\tt\\tdPhzj-Zymt7_2fMuSkTFhziYo3U0M\\twww.catholic.org\\t1397513706594\\n113096\\tUN says the world needs cap-and-trade, carbon taxes\\thttp://dailycaller.com/2014/04/14/un-says-the-world-needs-cap-and-trade-carbon-taxes/\\tDaily Caller\\tt\\tdPhzj-Zymt7_2fMuSkTFhziYo3U0M\\tdailycaller.com\\t1397513706859\\n113097\\tClimate risks real, US energy secretary says\\thttp://www.upi.com/Business_News/Energy-Resources/2014/04/14/Climate-risks-real-US-energy-secretary-says/9371397481941/\\tUPI.com\\tt\\tdPhzj-Zymt7_2fMuSkTFhziYo3U0M\\twww.upi.com\\t1397513707127\\n113098\\tEngineering an alternative to a fossil carbon overdose\\thttp://www.theengineer.co.uk/blog/engineering-an-alternative-to-a-fossil-carbon-overdose/1018386.article\\tThe Engineer \\\\(blog\\\\)\\tt\\tdPhzj-Zymt7_2fMuSkTFhziYo3U0M\\twww.theengineer.co.uk\\t1397513707345\\n113099\\tReport: Humans Might Do More To Stop Climate Change Once It\\'s Too Late\\thttp://gothamist.com/2014/04/14/climate_change.php\\tGothamist\\tt\\tdPhzj-Zymt7_2fMuSkTFhziYo3U0M\\tgothamist.com\\t1397513707680\\n113100\\tKerry: \\'Climate Science Is Unambiguous\\' with \\'Wake-Up Call After Wake-Up Call\\'\\thttp://pjmedia.com/tatler/2014/04/14/kerry-climate-science-is-unambiguous-with-wake-up-call-after-wake-up-call/\\tPJ Media\\tt\\tdPhzj-Zymt7_2fMuSkTFhziYo3U0M\\tpjmedia.com\\t1397513707998\\n113101\\tUN panels calls for dramatic shifts to mitigate climate change\\thttp://www.pennenergy.com/articles/pennenergy/2014/04/un-panel-calls-for-dramatic-shifts-in-power-generation-to-mitigate-climate-change.html\\tPennEnergy \\\\(press release\\\\)\\tt\\tdPhzj-Zymt7_2fMuSkTFhziYo3U0M\\twww.pennenergy.com\\t1397513708550\\n113102\\tFuturistic Iceberg Society, IPCC: \\'The Time Is Now,\\' Jellyfish Toilet Paper?\\thttp://www.onearth.org/articles/2014/04/futuristic-iceberg-society-jellyfish-toilet-paper\\tOnEarth Magazine\\tt\\tdPhzj-Zymt7_2fMuSkTFhziYo3U0M\\twww.onearth.org\\t1397513708780\\n113103\\tUN panel says next 15 years will be critical for affordable climate change actions\\thttp://www.eenews.net/stories/1059997823\\tEnvironment \\\\& Energy Publishing\\tt\\tdPhzj-Zymt7_2fMuSkTFhziYo3U0M\\twww.eenews.net\\t1397513708978\\n113104\\t\\'Move faster to save the planet\\' says UN report on climate change\\thttp://www.euronews.com/2014/04/14/move-faster-to-save-the-planet-says-un-report-on-climate-change/\\teuronews\\tt\\tdPhzj-Zymt7_2fMuSkTFhziYo3U0M\\twww.euronews.com\\t1397513709204\\n113105\\tClimate change solution? UN touts ambitious (but cheap) investment in  ...\\thttp://news.mongabay.com/2014/0414-hance-ipcc-third.html\\tMongabay.com\\tt\\tdPhzj-Zymt7_2fMuSkTFhziYo3U0M\\tnews.mongabay.com\\t1397513709523\\n113106\\tCost of fighting global warming \\'modest\\': UN panel\\thttp://indiatoday.intoday.in/story/global-warming-united-nations-co2-climate-change-pollution-greenhouse-gases/1/355714.html\\tIndia Today\\tt\\tdPhzj-Zymt7_2fMuSkTFhziYo3U0M\\tindiatoday.intoday.in\\t1397513709766\\n113107\\tUN Climate Report Charts Ways to Halt Global Warming\\thttp://news.nationalgeographic.com/news/2014/14/140413-ipcc-climate-change-report-un-science/\\tNational Geographic\\tt\\tdPhzj-Zymt7_2fMuSkTFhziYo3U0M\\tnews.nationalgeographic.com\\t1397513710018\\n113108\\tUS Secretary Kerry On Intergovernmental Panel On Climate Change Report\\thttp://allafrica.com/stories/201404142120.html\\tAllAfrica.com\\tt\\tdPhzj-Zymt7_2fMuSkTFhziYo3U0M\\tallafrica.com\\t1397513710269\\n113109\\tRich and Poor Nations Spar Ahead of Climate Report Release\\thttp://www.mintpressnews.com/rich-poor-nations-spar-ahead-climate-report-release/188845/\\tMintpress News\\tt\\tdPhzj-Zymt7_2fMuSkTFhziYo3U0M\\twww.mintpressnews.com\\t1397513710546\\n113110\\tStatement by Energy Secretary Moniz on IPCC\\'s Working Group Report on  ...\\thttp://enewspf.com/latest-news/science/science-a-environmental/51990-statement-by-energy-secretary-moniz-on-ipcc-s-working-group-report-on-climate-change-mitigation.html\\teNews Park Forest\\tt\\tdPhzj-Zymt7_2fMuSkTFhziYo3U0M\\tenewspf.com\\t1397513710789\\n113111\\tWorld may be forced to extract greenhouse gases out of air, warns United  ...\\thttp://www.financialexpress.com/news/world-may-be-forced-to-extract-greenhouse-gases-out-of-air-warns-united-nations-climate-panel/1240542\\tFinancial Express\\tt\\tdPhzj-Zymt7_2fMuSkTFhziYo3U0M\\twww.financialexpress.com\\t1397513711032\\n113112\\tIPCC Report: And now, for some good news\\thttp://www.businessgreen.com/bg/james-blog/2339787/ipcc-report-and-now-for-some-good-news\\tBusiness Green \\\\(blog\\\\)\\tt\\tdPhzj-Zymt7_2fMuSkTFhziYo3U0M\\twww.businessgreen.com\\t1397513711217\\n113113\\tCost of fighting warming `modest,` says UN panel\\thttp://www.environmental-expert.com/news/cost-of-fighting-warming-modest-says-un-panel-422619\\tEnvironmental Expert \\\\(press release\\\\)\\tt\\tdPhzj-Zymt7_2fMuSkTFhziYo3U0M\\twww.environmental-expert.com\\t1397513711433\\n113114\\tU.N. Climate Panel: World Has Just 15 Years to Avoid Climate Catastrophe\\thttp://www.democracynow.org/2014/4/14/headlines/un_climate_panel_world_has_just_15_years_to_avoid_climate_catastrophe\\tDemocracy Now\\tt\\tdPhzj-Zymt7_2fMuSkTFhziYo3U0M\\twww.democracynow.org\\t1397513711712\\n113115\\tMajor mitigation needed on climate change, IPCC warns Obama: Carbon  ...\\thttp://www.politico.com/morningenergy/0414/morningenergy13601.html\\tPolitico\\tt\\tdPhzj-Zymt7_2fMuSkTFhziYo3U0M\\twww.politico.com\\t1397513712122\\n113116\\tIPCC report: we have the tools, now it\\'s time for a tough UN climate deal\\thttp://www.rtcc.org/2014/04/14/ipcc-report-we-have-the-tools-now-its-time-for-a-tough-un-climate-deal/\\tResponding to Climate Change\\tt\\tdPhzj-Zymt7_2fMuSkTFhziYo3U0M\\twww.rtcc.org\\t1397513712331\\n113117\\tCost of fighting global warming is \\'modest\\': UN panel\\thttp://gadgets.ndtv.com/science/news/cost-of-fighting-global-warming-is-modest-un-panel-508219\\tNDTV\\tt\\tdPhzj-Zymt7_2fMuSkTFhziYo3U0M\\tgadgets.ndtv.com\\t1397513712591\\n113118\\tPanel: Cost Of Fighting Global Warming \\'Modest\\'\\thttp://www.mbtmag.com/news/2014/04/panel-cost-fighting-global-warming-modest\\tManufacturing Business Technology\\tt\\tdPhzj-Zymt7_2fMuSkTFhziYo3U0M\\twww.mbtmag.com\\t1397513712810\\n113119\\tUN climate report balances science and politics\\thttp://www.businessmirror.com.ph/index.php/en/news/top-news/30632-u-n-climate-report-balances-science-and-politics\\tBusiness Mirror\\tt\\tdPhzj-Zymt7_2fMuSkTFhziYo3U0M\\twww.businessmirror.com.ph\\t1397513713044\\n113120\\tWorld Faces Enormous Challenges To Counter Global Warming\\thttp://www.chinamoneynetwork.com/2014/04/14/world-faces-enormous-challenges-to-counter-global-warming\\tChina Money Network\\tt\\tdPhzj-Zymt7_2fMuSkTFhziYo3U0M\\twww.chinamoneynetwork.com\\t1397513713279\\n113121\\tWorst Scenarios Can Still Be Avoided, UN Climate Change Report Claims\\thttp://www.counselheal.com/articles/9343/20140414/worst-scenarios-still-avoided-un-climate-change-report-claims.htm\\tCounsel \\\\& Heal\\tt\\tdPhzj-Zymt7_2fMuSkTFhziYo3U0M\\twww.counselheal.com\\t1397513713656\\n113122\\tTransportation Emissions Could Rise by 71 Percent by 2050\\thttp://www.nasdaq.com/article/transportation-emissions-could-rise-by-71-percent-by-2050-cm343945\\tNASDAQ\\tt\\tdPhzj-Zymt7_2fMuSkTFhziYo3U0M\\twww.nasdaq.com\\t1397513713913\\n113123\\tGlobal greenhouse gas reduction efforts not enough, IPCC says\\thttp://www.nunatsiaqonline.ca/stories/article/65674global_greenhouse_gas_reduction_efforts_not_enough_ipcc_says/\\tNunatsiaq News\\tt\\tdPhzj-Zymt7_2fMuSkTFhziYo3U0M\\twww.nunatsiaqonline.ca\\t1397513714093\\n113124\\tIPCC says \\'massive shift\\' needed\\thttp://www.rechargenews.com/wind/europe_africa/article1358410.ece\\tRecharge\\tt\\tdPhzj-Zymt7_2fMuSkTFhziYo3U0M\\twww.rechargenews.com\\t1397513714242\\n113125\\t3 Things You Need to Know About the Latest UN Report on Climate Change\\thttp://www.fool.com/investing/general/2014/04/14/3-things-you-need-to-know-about-the-latest-un-repo.aspx\\tMotley Fool\\tt\\tdPhzj-Zymt7_2fMuSkTFhziYo3U0M\\twww.fool.com\\t1397513714504\\n113126\\tRenewables, Nuclear Must Triple to Save Climate, UN Says\\thttp://www.bloomberg.com/news/2014-04-13/renewables-nuclear-must-triple-to-save-climate-un-says.html\\tBloomberg\\tt\\tdPhzj-Zymt7_2fMuSkTFhziYo3U0M\\twww.bloomberg.com\\t1397513714856\\n113127\\tThe IPCC\\'s message is clear: it\\'s the end of business as usual for fossil fuel users\\thttp://www.theguardian.com/commentisfree/2014/apr/14/ipcc-message-end-of-business-as-usual-fossil-fuels\\tThe Guardian\\tt\\tdPhzj-Zymt7_2fMuSkTFhziYo3U0M\\twww.theguardian.com\\t1397513715133\\n113128\\tUN panel says major steps required to combat climate change\\thttp://www.business-standard.com/article/news-ani/un-panel-says-major-steps-required-to-combat-climate-change-114041400602_1.html\\tBusiness Standard\\tt\\tdPhzj-Zymt7_2fMuSkTFhziYo3U0M\\twww.business-standard.com\\t1397513715373\\n113129\\tClimate: \\'We need to move away from business as usual\\'\\thttp://summitcountyvoice.com/2014/04/14/climate-we-need-to-move-away-from-business-as-usua/\\tSummit County Citizens Voice\\tt\\tdPhzj-Zymt7_2fMuSkTFhziYo3U0M\\tsummitcountyvoice.com\\t1397513715584\\n113130\\tAll Countries Must Collaborate to Tackle Global Emissions After IPCC Report\\thttp://allafrica.com/stories/201404141778.html\\tAllAfrica.com\\tt\\tdPhzj-Zymt7_2fMuSkTFhziYo3U0M\\tallafrica.com\\t1397513715751\\n113131\\tLatest UN Climate Report shows energy revolution coming\\thttp://www.exchangemagazine.com/morningpost/2014/week15/Monday/14041419.htm\\tExchange Morning Post \\\\(press release\\\\)\\tt\\tdPhzj-Zymt7_2fMuSkTFhziYo3U0M\\twww.exchangemagazine.com\\t1397513716003\\n113132\\tClimate fixes and Plan Bs: The IPCC\\'s guide to staying below two degrees of  ...\\thttp://www.carbonbrief.org/blog/2014/04/climate-fixes-and-plan-bs-the-ipcc%E2%80%99s-guide-to-staying-below-two-degrees-of-global-warming/\\tCarbon Brief \\\\(blog\\\\)\\tt\\tdPhzj-Zymt7_2fMuSkTFhziYo3U0M\\twww.carbonbrief.org\\t1397513716191\\n113133\\tNuclear investment to increase says IPCC\\thttp://www.neimagazine.com/news/newsnuclear-investment-to-increase-says-ipcc-4214209\\tNuclear Engineering\\tt\\tdPhzj-Zymt7_2fMuSkTFhziYo3U0M\\twww.neimagazine.com\\t1397513716405\\n113134\\tThe impact of global warming on in-house counsel?\\thttp://www.canadianlawyermag.com/5092/The-impact-of-global-warming-on-in-house-counsel.html\\tCanadian Lawyer Magazine\\tt\\tdPhzj-Zymt7_2fMuSkTFhziYo3U0M\\twww.canadianlawyermag.com\\t1397513716619\\n113135\\tUS DOE respond to IPCC report\\thttp://www.energyglobal.com/news/shale-gas/articles/US_statement_on_IPCC_report379.aspx\\tEnergy Global\\tt\\tdPhzj-Zymt7_2fMuSkTFhziYo3U0M\\twww.energyglobal.com\\t1397513716787\\n113136\\tGovernments Can Still Avoid Worst Consequences of Climate Change, If they  ...\\thttp://www.hngn.com/articles/28772/20140414/governments-can-still-avoid-worst-consequences-of-climate-change-if-they-act-fast.htm\\tHeadlines \\\\& Global News\\tt\\tdPhzj-Zymt7_2fMuSkTFhziYo3U0M\\twww.hngn.com\\t1397513717022\\n113137\\tClimate change mitigation must benefit the poor, aid experts say\\thttp://www.trust.org/item/20140414113508-16toa/\\\\?source=gep\\tThomson Reuters Foundation\\tt\\tdPhzj-Zymt7_2fMuSkTFhziYo3U0M\\twww.trust.org\\t1397513717349\\n113138\\tMedia reaction: The Intergovernmental Panel on Climate Change\\'s big climate  ...\\thttp://www.carbonbrief.org/blog/2014/04/international-cooperation,-fracking-endorsements,-and-moon-dust-plan-bs-media-reaction-to-the-ipccs-climate-mitigation-report/\\tCarbon Brief \\\\(blog\\\\)\\tt\\tdPhzj-Zymt7_2fMuSkTFhziYo3U0M\\twww.carbonbrief.org\\t1397513717617\\n113139\\tClimate change mitigation must benefit the poor: aid experts\\thttp://www.trust.org/item/20140414113508-16toa\\tThomson Reuters Foundation \\\\(blog\\\\)\\tt\\tdPhzj-Zymt7_2fMuSkTFhziYo3U0M\\twww.trust.org\\t1397513717810\\n113140\\tCost of global warming fight \\'modest\\' if world acts quickly, U.N. panel says\\thttp://www.tulsaworld.com/news/usworld/cost-of-global-warming-fight-modest-if-world-acts-quickly/article_a53182b4-020d-58d7-b89d-3cc86fe25454.html\\tTulsa World\\tt\\tdPhzj-Zymt7_2fMuSkTFhziYo3U0M\\twww.tulsaworld.com\\t1397513718105\\n113141\\tCurbing our carbon footprint\\thttp://www.dw.de/curbing-our-carbon-footprint/g-17562567\\tDeutsche Welle\\tt\\tdPhzj-Zymt7_2fMuSkTFhziYo3U0M\\twww.dw.de\\t1397513718397\\n113142\\tChristian Aid: Time to get serious about climate change\\thttp://www.christianaid.org.uk/pressoffice/pressreleases/april-2014/christian-aid-time-to-get-serious-about-climate-change.aspx\\tChristian Aid \\\\(press release\\\\)\\tt\\tdPhzj-Zymt7_2fMuSkTFhziYo3U0M\\twww.christianaid.org.uk\\t1397513718573\\n113143\\tNew IPCC report: No more business as usual to reduce greenhouse gas  ...\\thttp://www.agri-pulse.com/New-IPCC-report-climate-change-biomass-04142014.asp\\tAgri-Pulse\\tt\\tdPhzj-Zymt7_2fMuSkTFhziYo3U0M\\twww.agri-pulse.com\\t1397513718733\\n113144\\tGlobal warming, climate change: \\'Modest hope\\' to slow warming, but no \\'free  ...\\thttp://www.wptv.com/news/world/global-warming-climate-change-modest-hope-to-slow-warming-but-no-free-lunch-un-warns\\tWPTV\\tt\\tdPhzj-Zymt7_2fMuSkTFhziYo3U0M\\twww.wptv.com\\t1397513718993\\n113145\\tIPCC report: John Kerry champions existing clean energy tech to combat climate  ...\\thttp://www.pv-tech.org/news/ipcc_report_us_secretary_urges_utilising_energy_technology_to_combat_climat\\tPV-Tech\\tt\\tdPhzj-Zymt7_2fMuSkTFhziYo3U0M\\twww.pv-tech.org\\t1397513719261\\n113146\\tCost of fighting warming \\'modest,\\' says UN panel Despite emissions growth\\thttp://ajw.asahi.com/article/sci_tech/environment/AJ201404140085\\tAsahi Shimbun\\tt\\tdPhzj-Zymt7_2fMuSkTFhziYo3U0M\\tajw.asahi.com\\t1397513719437\\n113147\\tNew appeal from IPCC on climate change\\thttp://www.sbs.com.au/news/article/2014/04/14/new-appeal-ipcc-climate-change\\tSBS\\tt\\tdPhzj-Zymt7_2fMuSkTFhziYo3U0M\\twww.sbs.com.au\\t1397513719672\\n113148\\tClimate change action must be stepped up, says IPCC\\thttp://eandt.theiet.org/news/2014/apr/ipcc-wg3.cfm\\tE\\\\&T magazine\\tt\\tdPhzj-Zymt7_2fMuSkTFhziYo3U0M\\teandt.theiet.org\\t1397513720073\\n113149\\tIPCC report: Difficulty of carbon emissions cuts \\'in the mind\\'\\thttp://www.rtcc.org/2014/04/14/ipcc-report-difficulty-of-carbon-emissions-cuts-in-the-mind/\\tResponding to Climate Change\\tt\\tdPhzj-Zymt7_2fMuSkTFhziYo3U0M\\twww.rtcc.org\\t1397513720258\\n113150\\tIPCC report: the scientists have done their bit, now it is up to us\\thttp://www.theguardian.com/environment/blog/2014/apr/14/ipcc-report-scientists-world-seize-opportunity-roadmap\\tThe Guardian \\\\(blog\\\\)\\tt\\tdPhzj-Zymt7_2fMuSkTFhziYo3U0M\\twww.theguardian.com\\t1397513720470\\n113151\\tUN advocates tripling of renewables and nuclear energy\\thttp://www.pennenergy.com/articles/pei/2014/04/un-advocates-tripling-of-renewables-and-nuclear-energy.html\\tPennEnergy \\\\(press release\\\\)\\tt\\tdPhzj-Zymt7_2fMuSkTFhziYo3U0M\\twww.pennenergy.com\\t1397513720683\\n113152\\tUN climate experts call for \\'near zero\\' emissions, global taxes\\thttp://www.washingtontimes.com/news/2014/apr/14/un-climate-experts-call-near-zero-emissions-global/\\tWashington Times\\tt\\tdPhzj-Zymt7_2fMuSkTFhziYo3U0M\\twww.washingtontimes.com\\t1397513720976\\n113153\\tEnvironment Minister Greg Hunt resists IPCC pressure for deep cuts to carbon  ...\\thttp://www.radioaustralia.net.au/international/2014-04-14/environment-minister-greg-hunt-resists-ipcc-pressure-for-deep-cuts-to-carbon-emissions/1295820\\tRadio Australia\\tt\\tdPhzj-Zymt7_2fMuSkTFhziYo3U0M\\twww.radioaustralia.net.au\\t1397513721222\\n113154\\tUN climate panel says critical action can avert disaster\\thttp://sunnewsonline.com/new/\\\\?p=59784\\tDaily Sun\\tt\\tdPhzj-Zymt7_2fMuSkTFhziYo3U0M\\tsunnewsonline.com\\t1397513722054\\n113155\\tUN chief urges swift, bold actions on climate change\\thttp://travel.siliconindia.com/news/UN-chief-urges-swift-bold-actions-on-climate-change-aid-2945.html\\tSiliconindia.com\\tt\\tdPhzj-Zymt7_2fMuSkTFhziYo3U0M\\ttravel.siliconindia.com\\t1397513722248\\n113156\\tWorld threat as efforts to cut carbon emissions fail\\thttp://www.universityworldnews.com/article.php\\\\?story=20140414120329253\\tUniversity World News\\tt\\tdPhzj-Zymt7_2fMuSkTFhziYo3U0M\\twww.universityworldnews.com\\t1397513722575\\n113157\\tGreg Barker: UK renewables \\'extremely attractive\\' for investors\\thttp://blueandgreentomorrow.com/2014/04/14/greg-barker-uk-renewables-extremely-attractive-for-investors/\\tBlue \\\\& Green Tomorrow\\tt\\tdPhzj-Zymt7_2fMuSkTFhziYo3U0M\\tblueandgreentomorrow.com\\t1397513722890\\n113158\\tHome Blogs FOOD - Help stop climate change by going...\\thttp://www.insidetoronto.com/blogs/post/4461510-food-help-stop-climate-change-by-going-vegetarian-and-dairy-free/\\tinsideTORONTO.com \\\\(blog\\\\)\\tt\\tdPhzj-Zymt7_2fMuSkTFhziYo3U0M\\twww.insidetoronto.com\\t1397513723204\\n113159\\t\\'World must triple nuclear and renewable energy\\' – United Nations\\thttp://rt.com/business/triple-nuclear-renewable-energy-336/\\tRT\\tt\\tdPhzj-Zymt7_2fMuSkTFhziYo3U0M\\trt.com\\t1397513723426\\n113160\\tAct on climate change issue now before it\\'s too late: UN\\thttp://www.techtimes.com/articles/5558/20140414/act-on-climate-change-issue-now-before-its-too-late-un.htm\\tTech Times\\tt\\tdPhzj-Zymt7_2fMuSkTFhziYo3U0M\\twww.techtimes.com\\t1397513723650\\n113161\\tEnergy change is key to meeting UN climate goal: panel\\thttp://www.thenewage.co.za/123178-1021-53-Energy_change_is_key_to_meeting_UN_climate_goal_panel\\tThe New Age Online\\tt\\tdPhzj-Zymt7_2fMuSkTFhziYo3U0M\\twww.thenewage.co.za\\t1397513723874\\n113162\\tIPCC: emissions cuts are about ethics as well as economics\\thttp://www.eco-business.com/opinion/ipcc-emissions-cuts-are-about-ethics-well-economics/\\teco-business.com\\tt\\tdPhzj-Zymt7_2fMuSkTFhziYo3U0M\\twww.eco-business.com\\t1397513724426\\n113163\\tGlobal emission grew faster between 2000 and 2010, says report\\thttp://www.governancenow.com/views/think-tanks/global-emission-grew-faster-between-2000-and-2010-says-report\\tGovernance Now\\tt\\tdPhzj-Zymt7_2fMuSkTFhziYo3U0M\\twww.governancenow.com\\t1397513724634\\n113164\\tUN warns emissions heading in wrong direction\\thttp://www.thestarphoenix.com/business/warns+emissions+heading+wrong+direction/9735662/story.html\\tStarPhoenix\\tt\\tdPhzj-Zymt7_2fMuSkTFhziYo3U0M\\twww.thestarphoenix.com\\t1397513724787\\n113165\\tUK government response to IPCC report\\thttp://www.energyglobal.com/news/coal/articles/Edward_Davey_IPCC_report_statement376.aspx\\tEnergy Global\\tt\\tdPhzj-Zymt7_2fMuSkTFhziYo3U0M\\twww.energyglobal.com\\t1397513725058\\n113166\\tIPCC report: Urgent UN climate deal needed to meet CO2 targets\\thttp://www.rtcc.org/2014/04/14/ipcc-report-urgent-un-climate-deal-needed-to-meet-co2-targets/\\tResponding to Climate Change\\tt\\tdPhzj-Zymt7_2fMuSkTFhziYo3U0M\\twww.rtcc.org\\t1397513725293\\n113167\\tUN panel: Cost of fighting global warming \\'modest\\'\\thttp://www.thonline.com/news/national_world/article_02821151-e6ef-5623-88ca-eee461ca58f5.html\\tDubuque Telegraph Herald\\tt\\tdPhzj-Zymt7_2fMuSkTFhziYo3U0M\\twww.thonline.com\\t1397513725594\\n113168\\tClimate panel warns next 15 years critical\\thttp://www.nwaonline.com/news/2014/apr/14/climate-panel-warns-next-15-years-critica-20140414/\\\\?news-world\\tNorthwest Arkansas News\\tt\\tdPhzj-Zymt7_2fMuSkTFhziYo3U0M\\twww.nwaonline.com\\t1397513725829\\n113169\\tClimate change: IPCC says there is still remedial time\\thttp://www.africasciencenews.org/en/index.php\\\\?option=com_content&amp;view=article&amp;id=1161:climate-change-ipcc-says-there-is-still-remedial-time&amp;catid=52:environment&amp;Itemid=115\\tAfrica Science News Service\\tt\\tdPhzj-Zymt7_2fMuSkTFhziYo3U0M\\twww.africasciencenews.org\\t1397513726077\\n113170\\tIPCC report: Bet your house on low carbon energy growth\\thttp://www.rtcc.org/2014/04/14/ipcc-report-bet-your-house-on-low-carbon-energy-growth/\\tResponding to Climate Change\\tt\\tdPhzj-Zymt7_2fMuSkTFhziYo3U0M\\twww.rtcc.org\\t1397513726291\\n113171\\tClean tech key to climate goal\\thttp://renews.biz/64894/clean-tech-key-to-climate-goal/\\treNews\\tt\\tdPhzj-Zymt7_2fMuSkTFhziYo3U0M\\trenews.biz\\t1397513726692\\n113172\\tIPCC climate change report: averting catastrophe is eminently affordable\\thttp://www.edie.net/news/6/IPCC-climate-change-report--averting-catastrophe-is-eminently-affordable/\\tedie.net\\tt\\tdPhzj-Zymt7_2fMuSkTFhziYo3U0M\\twww.edie.net\\t1397513726885\\n113173\\tIPCC report: Gas just a short term fix to cut CO2 levels\\thttp://www.rtcc.org/2014/04/14/ipcc-report-gas-just-a-short-term-fix-to-cut-co2-levels/\\tResponding to Climate Change\\tt\\tdPhzj-Zymt7_2fMuSkTFhziYo3U0M\\twww.rtcc.org\\t1397513727053\\n113174\\tUN report calls for \\'technological change\\' on global warming\\thttp://euobserver.com/social/123845\\tEUobserver\\tt\\tdPhzj-Zymt7_2fMuSkTFhziYo3U0M\\teuobserver.com\\t1397513727246\\n113175\\tIPCC report: slashing carbon emissions is affordable for world economy\\thttp://www.greenwisebusiness.co.uk/news/ipcc-report-slashing-carbon-emissions-is-affordable-for-world-economy-4306.aspx\\tGreenwise Business\\tt\\tdPhzj-Zymt7_2fMuSkTFhziYo3U0M\\twww.greenwisebusiness.co.uk\\t1397513727674\\n113176\\tUN: Cost of fighting warming \\'modest\\'\\thttp://www.times-gazette.com/ap%20international/2014/04/14/un-cost-of-fighting-warming-modest\\tAshland Times Gazette \\\\(subscription\\\\)\\tt\\tdPhzj-Zymt7_2fMuSkTFhziYo3U0M\\twww.times-gazette.com\\t1397513727883\\n113177\\t“Greenhouse gas emissions accelerate despite reduction efforts”\\thttp://www.hvnplus.co.uk/news/greenhouse-gas-emissions-accelerate-despite-reduction-efforts/8661436.article\\tH\\\\&V News\\tt\\tdPhzj-Zymt7_2fMuSkTFhziYo3U0M\\twww.hvnplus.co.uk\\t1397513728118\\n113178\\tIn key document, UN climate panel warns emissions rising but drops statistics  ...\\thttp://www.leaderpost.com/business/document+climate+panel+warns+emissions+rising+drops+statistics/9734089/story.html\\tRegina Leader-Post\\tt\\tdPhzj-Zymt7_2fMuSkTFhziYo3U0M\\twww.leaderpost.com\\t1397513728336\\n113179\\tIPCC WGIII highlights need for deep and fast cuts in CO2 emissions\\thttp://www.eco-business.com/press-releases/ipcc-wgiii-highlights-need-for-deep-and-fast-cuts-in-co2-emissions/\\teco-business.com\\tt\\tdPhzj-Zymt7_2fMuSkTFhziYo3U0M\\twww.eco-business.com\\t1397513728621\\n113180\\tCost of fighting warming \\'modest,\\' U.N. panel says\\thttp://www.philly.com/philly/news/nation_world/20140414_Cost_of_fighting_warming__modest___U_N__panel_says.html\\tPhilly.com\\tt\\tdPhzj-Zymt7_2fMuSkTFhziYo3U0M\\twww.philly.com\\t1397513728814\\n113181\\tFracking may curb global warming: UN climate change report\\thttp://www.delhidailynews.com/news/Fracking-may-curb-global-warming--UN-climate-change-report-1397458938/\\tDelhi Daily News\\tt\\tdPhzj-Zymt7_2fMuSkTFhziYo3U0M\\twww.delhidailynews.com\\t1397513729066\\n113182\\tU.N.: Cost of fighting global warming \\'relatively modest\\' for now\\thttp://www.spokesman.com/stories/2014/apr/14/un-warming-fight-cost-modest/\\tThe Spokesman Review\\tt\\tdPhzj-Zymt7_2fMuSkTFhziYo3U0M\\twww.spokesman.com\\t1397513729234\\n113183\\tU.S. urges IPCC to be less boring, try this whole online\" thing'"
      ]
     },
     "execution_count": 29,
     "metadata": {},
     "output_type": "execute_result"
    }
   ],
   "source": [
    "# find title which have 24945 characters\n",
    "df.iloc[62785,1]"
   ]
  },
  {
   "cell_type": "code",
   "execution_count": 30,
   "metadata": {},
   "outputs": [
    {
     "data": {
      "text/plain": [
       "'I don\\'t know why I\\'m a sex symbol\\' says smouldering hunk of manliness Jon  ...\\thttp://www.irishexaminer.com/breakingnews/entertainment/i-dont-know-why-im-a-sex-symbol-says-smouldering-hunk-of-manliness-jon-hamm-627395.html\\tIrish Examiner\\te\\tdQp_0Hv3qTdoGMMXikOnSJKtYXH-M\\twww.irishexaminer.com\\t1397237964614\\n98713\\tTV looks to the past for stories with timeless appeal\\thttp://www.app.com/usatoday/article/7171627\\tAsbury Park Press\\te\\tdQp_0Hv3qTdoGMMXikOnSJKtYXH-M\\twww.app.com\\t1397237964971\\n98714\\tTuned In: AMC\\'s \\'Mad Men\\' begins a 2-part final season\\thttp://www.post-gazette.com/ae/tv-radio/2014/04/09/Tuned-In-AMC-s-Mad-Men-begins-a-2-part-final-season/stories/201404090034\\tPittsburgh Post-Gazette\\te\\tdQp_0Hv3qTdoGMMXikOnSJKtYXH-M\\twww.post-gazette.com\\t1397237965273\\n98715\\tMad Men\" end in sight for Matthew Weiner with new season'"
      ]
     },
     "execution_count": 30,
     "metadata": {},
     "output_type": "execute_result"
    }
   ],
   "source": [
    "# find title which have 824 characters\n",
    "df.iloc[29126,1]"
   ]
  },
  {
   "cell_type": "code",
   "execution_count": 31,
   "metadata": {},
   "outputs": [
    {
     "data": {
      "text/plain": [
       "\"'Bachelorette' host 'fought like crazy' to film Andi Dorfman's reaction to Eric Hill's  ...\""
      ]
     },
     "execution_count": 31,
     "metadata": {},
     "output_type": "execute_result"
    }
   ],
   "source": [
    "# find title which have 91 characters\n",
    "df.iloc[50496,1]"
   ]
  },
  {
   "cell_type": "markdown",
   "metadata": {},
   "source": [
    "The top 3 results have messy titles. But for the 4th and lower I think it doesn't matter."
   ]
  },
  {
   "cell_type": "markdown",
   "metadata": {},
   "source": [
    "# Data Cleansing #2"
   ]
  },
  {
   "cell_type": "markdown",
   "metadata": {},
   "source": [
    "After looking at the messy headline pattern, I noticed that there was a \"\\ t\" in the title. So I will split the string for the title with the delimiter \"\\ t\".\n",
    "\n",
    "After that we will get a new news title in the form of a list.\n",
    "\n",
    "I will make a length of list for each new title. And then I will take the first index from the list, because I think the first index is the title."
   ]
  },
  {
   "cell_type": "code",
   "execution_count": 32,
   "metadata": {},
   "outputs": [
    {
     "data": {
      "text/html": [
       "<div>\n",
       "<style scoped>\n",
       "    .dataframe tbody tr th:only-of-type {\n",
       "        vertical-align: middle;\n",
       "    }\n",
       "\n",
       "    .dataframe tbody tr th {\n",
       "        vertical-align: top;\n",
       "    }\n",
       "\n",
       "    .dataframe thead th {\n",
       "        text-align: right;\n",
       "    }\n",
       "</style>\n",
       "<table border=\"1\" class=\"dataframe\">\n",
       "  <thead>\n",
       "    <tr style=\"text-align: right;\">\n",
       "      <th></th>\n",
       "      <th>No</th>\n",
       "      <th>News Title</th>\n",
       "      <th>Category</th>\n",
       "      <th>title_len</th>\n",
       "    </tr>\n",
       "  </thead>\n",
       "  <tbody>\n",
       "    <tr>\n",
       "      <th>0</th>\n",
       "      <td>1</td>\n",
       "      <td>[Google+ rolls out 'Stories' for tricked out p...</td>\n",
       "      <td>Technology</td>\n",
       "      <td>58</td>\n",
       "    </tr>\n",
       "    <tr>\n",
       "      <th>1</th>\n",
       "      <td>2</td>\n",
       "      <td>[Dov Charney's Redeeming Quality]</td>\n",
       "      <td>Business</td>\n",
       "      <td>31</td>\n",
       "    </tr>\n",
       "    <tr>\n",
       "      <th>2</th>\n",
       "      <td>3</td>\n",
       "      <td>[White God adds Un Certain Regard to the Palm ...</td>\n",
       "      <td>Entertainment</td>\n",
       "      <td>48</td>\n",
       "    </tr>\n",
       "    <tr>\n",
       "      <th>3</th>\n",
       "      <td>4</td>\n",
       "      <td>[Google shows off Androids for wearables, cars...</td>\n",
       "      <td>Technology</td>\n",
       "      <td>50</td>\n",
       "    </tr>\n",
       "    <tr>\n",
       "      <th>4</th>\n",
       "      <td>5</td>\n",
       "      <td>[China May new bank loans at 870.8 bln yuan]</td>\n",
       "      <td>Business</td>\n",
       "      <td>42</td>\n",
       "    </tr>\n",
       "    <tr>\n",
       "      <th>...</th>\n",
       "      <td>...</td>\n",
       "      <td>...</td>\n",
       "      <td>...</td>\n",
       "      <td>...</td>\n",
       "    </tr>\n",
       "    <tr>\n",
       "      <th>65461</th>\n",
       "      <td>65531</td>\n",
       "      <td>[Xbox One Homebrew Will Likely Be a Reality in...</td>\n",
       "      <td>Technology</td>\n",
       "      <td>71</td>\n",
       "    </tr>\n",
       "    <tr>\n",
       "      <th>65462</th>\n",
       "      <td>65532</td>\n",
       "      <td>[Maker Recalls 1.9 Million Rear-Facing Infant ...</td>\n",
       "      <td>Technology</td>\n",
       "      <td>50</td>\n",
       "    </tr>\n",
       "    <tr>\n",
       "      <th>65463</th>\n",
       "      <td>65533</td>\n",
       "      <td>[Watch first 'Ninja Turtles' trailer]</td>\n",
       "      <td>Entertainment</td>\n",
       "      <td>35</td>\n",
       "    </tr>\n",
       "    <tr>\n",
       "      <th>65464</th>\n",
       "      <td>65534</td>\n",
       "      <td>[23/05/2014Dogs triumph in Cannes as canine th...</td>\n",
       "      <td>Entertainment</td>\n",
       "      <td>74</td>\n",
       "    </tr>\n",
       "    <tr>\n",
       "      <th>65465</th>\n",
       "      <td>65535</td>\n",
       "      <td>[FrontPoint Security CEO Chris Villar Ranked N...</td>\n",
       "      <td>Business</td>\n",
       "      <td>78</td>\n",
       "    </tr>\n",
       "  </tbody>\n",
       "</table>\n",
       "<p>65466 rows × 4 columns</p>\n",
       "</div>"
      ],
      "text/plain": [
       "          No                                         News Title  \\\n",
       "0          1  [Google+ rolls out 'Stories' for tricked out p...   \n",
       "1          2                  [Dov Charney's Redeeming Quality]   \n",
       "2          3  [White God adds Un Certain Regard to the Palm ...   \n",
       "3          4  [Google shows off Androids for wearables, cars...   \n",
       "4          5       [China May new bank loans at 870.8 bln yuan]   \n",
       "...      ...                                                ...   \n",
       "65461  65531  [Xbox One Homebrew Will Likely Be a Reality in...   \n",
       "65462  65532  [Maker Recalls 1.9 Million Rear-Facing Infant ...   \n",
       "65463  65533              [Watch first 'Ninja Turtles' trailer]   \n",
       "65464  65534  [23/05/2014Dogs triumph in Cannes as canine th...   \n",
       "65465  65535  [FrontPoint Security CEO Chris Villar Ranked N...   \n",
       "\n",
       "            Category  title_len  \n",
       "0         Technology         58  \n",
       "1           Business         31  \n",
       "2      Entertainment         48  \n",
       "3         Technology         50  \n",
       "4           Business         42  \n",
       "...              ...        ...  \n",
       "65461     Technology         71  \n",
       "65462     Technology         50  \n",
       "65463  Entertainment         35  \n",
       "65464  Entertainment         74  \n",
       "65465       Business         78  \n",
       "\n",
       "[65466 rows x 4 columns]"
      ]
     },
     "execution_count": 32,
     "metadata": {},
     "output_type": "execute_result"
    }
   ],
   "source": [
    "# split news title\n",
    "df['News Title'] = df['News Title'].str.split('\\t')\n",
    "df"
   ]
  },
  {
   "cell_type": "code",
   "execution_count": 33,
   "metadata": {},
   "outputs": [
    {
     "data": {
      "text/html": [
       "<div>\n",
       "<style scoped>\n",
       "    .dataframe tbody tr th:only-of-type {\n",
       "        vertical-align: middle;\n",
       "    }\n",
       "\n",
       "    .dataframe tbody tr th {\n",
       "        vertical-align: top;\n",
       "    }\n",
       "\n",
       "    .dataframe thead th {\n",
       "        text-align: right;\n",
       "    }\n",
       "</style>\n",
       "<table border=\"1\" class=\"dataframe\">\n",
       "  <thead>\n",
       "    <tr style=\"text-align: right;\">\n",
       "      <th></th>\n",
       "      <th>No</th>\n",
       "      <th>News Title</th>\n",
       "      <th>Category</th>\n",
       "      <th>title_len</th>\n",
       "    </tr>\n",
       "  </thead>\n",
       "  <tbody>\n",
       "    <tr>\n",
       "      <th>0</th>\n",
       "      <td>1</td>\n",
       "      <td>Google+ rolls out 'Stories' for tricked out ph...</td>\n",
       "      <td>Technology</td>\n",
       "      <td>58</td>\n",
       "    </tr>\n",
       "    <tr>\n",
       "      <th>1</th>\n",
       "      <td>2</td>\n",
       "      <td>Dov Charney's Redeeming Quality</td>\n",
       "      <td>Business</td>\n",
       "      <td>31</td>\n",
       "    </tr>\n",
       "    <tr>\n",
       "      <th>2</th>\n",
       "      <td>3</td>\n",
       "      <td>White God adds Un Certain Regard to the Palm Dog</td>\n",
       "      <td>Entertainment</td>\n",
       "      <td>48</td>\n",
       "    </tr>\n",
       "    <tr>\n",
       "      <th>3</th>\n",
       "      <td>4</td>\n",
       "      <td>Google shows off Androids for wearables, cars,...</td>\n",
       "      <td>Technology</td>\n",
       "      <td>50</td>\n",
       "    </tr>\n",
       "    <tr>\n",
       "      <th>4</th>\n",
       "      <td>5</td>\n",
       "      <td>China May new bank loans at 870.8 bln yuan</td>\n",
       "      <td>Business</td>\n",
       "      <td>42</td>\n",
       "    </tr>\n",
       "    <tr>\n",
       "      <th>...</th>\n",
       "      <td>...</td>\n",
       "      <td>...</td>\n",
       "      <td>...</td>\n",
       "      <td>...</td>\n",
       "    </tr>\n",
       "    <tr>\n",
       "      <th>65461</th>\n",
       "      <td>65531</td>\n",
       "      <td>Xbox One Homebrew Will Likely Be a Reality in ...</td>\n",
       "      <td>Technology</td>\n",
       "      <td>71</td>\n",
       "    </tr>\n",
       "    <tr>\n",
       "      <th>65462</th>\n",
       "      <td>65532</td>\n",
       "      <td>Maker Recalls 1.9 Million Rear-Facing Infant S...</td>\n",
       "      <td>Technology</td>\n",
       "      <td>50</td>\n",
       "    </tr>\n",
       "    <tr>\n",
       "      <th>65463</th>\n",
       "      <td>65533</td>\n",
       "      <td>Watch first 'Ninja Turtles' trailer</td>\n",
       "      <td>Entertainment</td>\n",
       "      <td>35</td>\n",
       "    </tr>\n",
       "    <tr>\n",
       "      <th>65464</th>\n",
       "      <td>65534</td>\n",
       "      <td>23/05/2014Dogs triumph in Cannes as canine thr...</td>\n",
       "      <td>Entertainment</td>\n",
       "      <td>74</td>\n",
       "    </tr>\n",
       "    <tr>\n",
       "      <th>65465</th>\n",
       "      <td>65535</td>\n",
       "      <td>FrontPoint Security CEO Chris Villar Ranked No...</td>\n",
       "      <td>Business</td>\n",
       "      <td>78</td>\n",
       "    </tr>\n",
       "  </tbody>\n",
       "</table>\n",
       "<p>65466 rows × 4 columns</p>\n",
       "</div>"
      ],
      "text/plain": [
       "          No                                         News Title  \\\n",
       "0          1  Google+ rolls out 'Stories' for tricked out ph...   \n",
       "1          2                    Dov Charney's Redeeming Quality   \n",
       "2          3   White God adds Un Certain Regard to the Palm Dog   \n",
       "3          4  Google shows off Androids for wearables, cars,...   \n",
       "4          5         China May new bank loans at 870.8 bln yuan   \n",
       "...      ...                                                ...   \n",
       "65461  65531  Xbox One Homebrew Will Likely Be a Reality in ...   \n",
       "65462  65532  Maker Recalls 1.9 Million Rear-Facing Infant S...   \n",
       "65463  65533                Watch first 'Ninja Turtles' trailer   \n",
       "65464  65534  23/05/2014Dogs triumph in Cannes as canine thr...   \n",
       "65465  65535  FrontPoint Security CEO Chris Villar Ranked No...   \n",
       "\n",
       "            Category  title_len  \n",
       "0         Technology         58  \n",
       "1           Business         31  \n",
       "2      Entertainment         48  \n",
       "3         Technology         50  \n",
       "4           Business         42  \n",
       "...              ...        ...  \n",
       "65461     Technology         71  \n",
       "65462     Technology         50  \n",
       "65463  Entertainment         35  \n",
       "65464  Entertainment         74  \n",
       "65465       Business         78  \n",
       "\n",
       "[65466 rows x 4 columns]"
      ]
     },
     "execution_count": 33,
     "metadata": {},
     "output_type": "execute_result"
    }
   ],
   "source": [
    "#  take the first index from the list\n",
    "for i in range(df.shape[0]):\n",
    "    df.iloc[i, 1] =  df['News Title'][i][0]\n",
    "df"
   ]
  },
  {
   "cell_type": "code",
   "execution_count": 34,
   "metadata": {},
   "outputs": [
    {
     "data": {
      "text/html": [
       "<div>\n",
       "<style scoped>\n",
       "    .dataframe tbody tr th:only-of-type {\n",
       "        vertical-align: middle;\n",
       "    }\n",
       "\n",
       "    .dataframe tbody tr th {\n",
       "        vertical-align: top;\n",
       "    }\n",
       "\n",
       "    .dataframe thead th {\n",
       "        text-align: right;\n",
       "    }\n",
       "</style>\n",
       "<table border=\"1\" class=\"dataframe\">\n",
       "  <thead>\n",
       "    <tr style=\"text-align: right;\">\n",
       "      <th></th>\n",
       "      <th>No</th>\n",
       "      <th>News Title</th>\n",
       "      <th>Category</th>\n",
       "      <th>title_len</th>\n",
       "    </tr>\n",
       "  </thead>\n",
       "  <tbody>\n",
       "    <tr>\n",
       "      <th>50496</th>\n",
       "      <td>50550</td>\n",
       "      <td>'Bachelorette' host 'fought like crazy' to fil...</td>\n",
       "      <td>Entertainment</td>\n",
       "      <td>91</td>\n",
       "    </tr>\n",
       "    <tr>\n",
       "      <th>22414</th>\n",
       "      <td>22445</td>\n",
       "      <td>Flashy 'Draft Day' doesn't let football facts ...</td>\n",
       "      <td>Entertainment</td>\n",
       "      <td>91</td>\n",
       "    </tr>\n",
       "    <tr>\n",
       "      <th>52075</th>\n",
       "      <td>52130</td>\n",
       "      <td>Straight talk for families on health care: The...</td>\n",
       "      <td>Business</td>\n",
       "      <td>91</td>\n",
       "    </tr>\n",
       "    <tr>\n",
       "      <th>12777</th>\n",
       "      <td>12795</td>\n",
       "      <td>Movie review: 'Edge of Tomorrow' a fun, furiou...</td>\n",
       "      <td>Entertainment</td>\n",
       "      <td>91</td>\n",
       "    </tr>\n",
       "    <tr>\n",
       "      <th>64499</th>\n",
       "      <td>64568</td>\n",
       "      <td>Lions Gate to release 'Divergent' film finale ...</td>\n",
       "      <td>Entertainment</td>\n",
       "      <td>91</td>\n",
       "    </tr>\n",
       "    <tr>\n",
       "      <th>62485</th>\n",
       "      <td>62553</td>\n",
       "      <td>Oscar Pistorius trial restart could be delayed...</td>\n",
       "      <td>Medical</td>\n",
       "      <td>91</td>\n",
       "    </tr>\n",
       "    <tr>\n",
       "      <th>54873</th>\n",
       "      <td>54932</td>\n",
       "      <td>Twitter's Mute button corrects last year's Blo...</td>\n",
       "      <td>Technology</td>\n",
       "      <td>91</td>\n",
       "    </tr>\n",
       "    <tr>\n",
       "      <th>10248</th>\n",
       "      <td>10264</td>\n",
       "      <td>LG Electronics Inc.'s share price up, posts a ...</td>\n",
       "      <td>Technology</td>\n",
       "      <td>91</td>\n",
       "    </tr>\n",
       "    <tr>\n",
       "      <th>64579</th>\n",
       "      <td>64648</td>\n",
       "      <td>Students take part in the social media frenzy ...</td>\n",
       "      <td>Entertainment</td>\n",
       "      <td>90</td>\n",
       "    </tr>\n",
       "    <tr>\n",
       "      <th>23578</th>\n",
       "      <td>23610</td>\n",
       "      <td>Let's clear this up: Scientists create see-thr...</td>\n",
       "      <td>Medical</td>\n",
       "      <td>90</td>\n",
       "    </tr>\n",
       "  </tbody>\n",
       "</table>\n",
       "</div>"
      ],
      "text/plain": [
       "          No                                         News Title  \\\n",
       "50496  50550  'Bachelorette' host 'fought like crazy' to fil...   \n",
       "22414  22445  Flashy 'Draft Day' doesn't let football facts ...   \n",
       "52075  52130  Straight talk for families on health care: The...   \n",
       "12777  12795  Movie review: 'Edge of Tomorrow' a fun, furiou...   \n",
       "64499  64568  Lions Gate to release 'Divergent' film finale ...   \n",
       "62485  62553  Oscar Pistorius trial restart could be delayed...   \n",
       "54873  54932  Twitter's Mute button corrects last year's Blo...   \n",
       "10248  10264  LG Electronics Inc.'s share price up, posts a ...   \n",
       "64579  64648  Students take part in the social media frenzy ...   \n",
       "23578  23610  Let's clear this up: Scientists create see-thr...   \n",
       "\n",
       "            Category  title_len  \n",
       "50496  Entertainment         91  \n",
       "22414  Entertainment         91  \n",
       "52075       Business         91  \n",
       "12777  Entertainment         91  \n",
       "64499  Entertainment         91  \n",
       "62485        Medical         91  \n",
       "54873     Technology         91  \n",
       "10248     Technology         91  \n",
       "64579  Entertainment         90  \n",
       "23578        Medical         90  "
      ]
     },
     "execution_count": 34,
     "metadata": {},
     "output_type": "execute_result"
    }
   ],
   "source": [
    "# create a new title_len to ensure there are no absurd news title lengths.\n",
    "df['title_len'] = df['News Title'].apply(len)\n",
    "df.sort_values(by=['title_len'], ascending=False).head(10)"
   ]
  },
  {
   "cell_type": "code",
   "execution_count": 35,
   "metadata": {},
   "outputs": [
    {
     "name": "stdout",
     "output_type": "stream",
     "text": [
      "I never thought I'd be in love” says Angelina Jolie\n",
      "A few years ago, scientists calculated that benefit as having a net present value  ...\n",
      "I don't know why I'm a sex symbol' says smouldering hunk of manliness Jon  ...\n"
     ]
    }
   ],
   "source": [
    "# Check out previously absurd news titles.\n",
    "print(df.iloc[53107,1])\n",
    "print(df.iloc[62785,1])\n",
    "print(df.iloc[29126,1])"
   ]
  },
  {
   "cell_type": "code",
   "execution_count": 36,
   "metadata": {},
   "outputs": [
    {
     "data": {
      "text/plain": [
       "Text(0.5,0,'Title Length')"
      ]
     },
     "execution_count": 36,
     "metadata": {},
     "output_type": "execute_result"
    },
    {
     "data": {
      "image/png": "[encoded data removed]",
      "text/plain": [
       "<matplotlib.figure.Figure at 0x20c5e530eb8>"
      ]
     },
     "metadata": {},
     "output_type": "display_data"
    }
   ],
   "source": [
    "# check again histogram for title_len for category: Entertainment and category: Technology\n",
    "plt.figure(figsize=(12, 8))\n",
    "\n",
    "df[df['Category']=='Entertainment']['title_len'].plot(kind='hist', color='blue', \n",
    "                                       label='Entertainment', alpha=0.6)\n",
    "df[df['Category']=='Technology']['title_len'].plot(kind='hist', color='yellow', \n",
    "                                       label='Technology', alpha=0.6)\n",
    "\n",
    "plt.legend()\n",
    "plt.xlabel(\"Title Length\")"
   ]
  },
  {
   "cell_type": "markdown",
   "metadata": {},
   "source": [
    "Okay, this is make sense"
   ]
  },
  {
   "cell_type": "markdown",
   "metadata": {},
   "source": [
    "# Split Data"
   ]
  },
  {
   "cell_type": "code",
   "execution_count": 37,
   "metadata": {},
   "outputs": [],
   "source": [
    "X = df['News Title']\n",
    "y = df['Category']\n",
    "\n",
    "from sklearn.model_selection import train_test_split\n",
    "X_train, X_test, y_train, y_test = train_test_split(X, y, test_size=0.3)"
   ]
  },
  {
   "cell_type": "code",
   "execution_count": 38,
   "metadata": {},
   "outputs": [
    {
     "name": "stdout",
     "output_type": "stream",
     "text": [
      "(45826,)\n",
      "(45826,)\n",
      "(19640,)\n",
      "(19640,)\n"
     ]
    }
   ],
   "source": [
    "# total row x column for training and testing dataset\n",
    "print(X_train.shape)\n",
    "print(y_train.shape)\n",
    "print(X_test.shape)\n",
    "print(X_test.shape)"
   ]
  },
  {
   "cell_type": "markdown",
   "metadata": {},
   "source": [
    "# Vectorization"
   ]
  },
  {
   "cell_type": "code",
   "execution_count": 39,
   "metadata": {},
   "outputs": [
    {
     "data": {
      "text/plain": [
       "array([[0, 0, 0, ..., 0, 0, 0],\n",
       "       [0, 0, 0, ..., 0, 0, 0],\n",
       "       [0, 0, 0, ..., 0, 0, 0],\n",
       "       ...,\n",
       "       [0, 0, 0, ..., 0, 0, 0],\n",
       "       [0, 0, 0, ..., 0, 0, 0],\n",
       "       [0, 0, 0, ..., 0, 0, 0]], dtype=int64)"
      ]
     },
     "execution_count": 39,
     "metadata": {},
     "output_type": "execute_result"
    }
   ],
   "source": [
    "from sklearn.feature_extraction.text import CountVectorizer\n",
    "v = CountVectorizer()\n",
    "X_train_dtm = v.fit_transform(X_train)\n",
    "X_train_dtm.toarray()"
   ]
  },
  {
   "cell_type": "code",
   "execution_count": 40,
   "metadata": {},
   "outputs": [
    {
     "data": {
      "text/plain": [
       "array([[0, 0, 0, ..., 0, 0, 0],\n",
       "       [0, 0, 0, ..., 0, 0, 0],\n",
       "       [0, 0, 0, ..., 0, 0, 0],\n",
       "       ...,\n",
       "       [0, 0, 0, ..., 0, 0, 0],\n",
       "       [0, 0, 0, ..., 0, 0, 0],\n",
       "       [0, 0, 0, ..., 0, 0, 0]], dtype=int64)"
      ]
     },
     "execution_count": 40,
     "metadata": {},
     "output_type": "execute_result"
    }
   ],
   "source": [
    "X_test_dtm = v.transform(X_test)\n",
    "X_test_dtm.toarray()"
   ]
  },
  {
   "cell_type": "markdown",
   "metadata": {},
   "source": [
    "# Modelling with Naive Bayes"
   ]
  },
  {
   "cell_type": "code",
   "execution_count": 41,
   "metadata": {},
   "outputs": [
    {
     "data": {
      "text/plain": [
       "MultinomialNB()"
      ]
     },
     "execution_count": 41,
     "metadata": {},
     "output_type": "execute_result"
    }
   ],
   "source": [
    "from sklearn.naive_bayes import MultinomialNB\n",
    "nb = MultinomialNB()\n",
    "nb.fit(X_train_dtm, y_train)"
   ]
  },
  {
   "cell_type": "code",
   "execution_count": 42,
   "metadata": {},
   "outputs": [
    {
     "name": "stdout",
     "output_type": "stream",
     "text": [
      "(45826, 24103)\n",
      "(19640, 24103)\n"
     ]
    }
   ],
   "source": [
    "print(X_train_dtm.shape)\n",
    "print(X_test_dtm.shape)"
   ]
  },
  {
   "cell_type": "code",
   "execution_count": 43,
   "metadata": {},
   "outputs": [],
   "source": [
    "y_pred = nb.predict(X_test_dtm)"
   ]
  },
  {
   "cell_type": "code",
   "execution_count": 44,
   "metadata": {},
   "outputs": [
    {
     "name": "stdout",
     "output_type": "stream",
     "text": [
      "[[4696  117   76  410]\n",
      " [ 100 6969   52  160]\n",
      " [ 120  104 1791   64]\n",
      " [ 381  145   54 4401]]\n"
     ]
    }
   ],
   "source": [
    "# print the confusion matrix\n",
    "from sklearn import metrics\n",
    "print(metrics.confusion_matrix(y_test, y_pred))"
   ]
  },
  {
   "cell_type": "code",
   "execution_count": 45,
   "metadata": {},
   "outputs": [
    {
     "name": "stdout",
     "output_type": "stream",
     "text": [
      "               precision    recall  f1-score   support\n",
      "\n",
      "     Business       0.89      0.89      0.89      5299\n",
      "Entertainment       0.95      0.96      0.95      7281\n",
      "      Medical       0.91      0.86      0.88      2079\n",
      "   Technology       0.87      0.88      0.88      4981\n",
      "\n",
      "     accuracy                           0.91     19640\n",
      "    macro avg       0.90      0.90      0.90     19640\n",
      " weighted avg       0.91      0.91      0.91     19640\n",
      "\n"
     ]
    }
   ],
   "source": [
    "# print the classification report\n",
    "print(metrics.classification_report(y_test, y_pred))"
   ]
  },
  {
   "cell_type": "markdown",
   "metadata": {},
   "source": [
    "# Modelling with Logistic Regression"
   ]
  },
  {
   "cell_type": "code",
   "execution_count": 46,
   "metadata": {},
   "outputs": [],
   "source": [
    "# import an instantiate a logistic regression model\n",
    "from sklearn.linear_model import LogisticRegression\n",
    "logreg = LogisticRegression()"
   ]
  },
  {
   "cell_type": "code",
   "execution_count": 47,
   "metadata": {},
   "outputs": [
    {
     "name": "stderr",
     "output_type": "stream",
     "text": [
      "C:\\Users\\prase\\Anaconda3\\lib\\site-packages\\sklearn\\linear_model\\_logistic.py:764: ConvergenceWarning: lbfgs failed to converge (status=1):\n",
      "STOP: TOTAL NO. of ITERATIONS REACHED LIMIT.\n",
      "\n",
      "Increase the number of iterations (max_iter) or scale the data as shown in:\n",
      "    https://scikit-learn.org/stable/modules/preprocessing.html\n",
      "Please also refer to the documentation for alternative solver options:\n",
      "    https://scikit-learn.org/stable/modules/linear_model.html#logistic-regression\n",
      "  extra_warning_msg=_LOGISTIC_SOLVER_CONVERGENCE_MSG)\n"
     ]
    },
    {
     "data": {
      "text/plain": [
       "LogisticRegression()"
      ]
     },
     "execution_count": 47,
     "metadata": {},
     "output_type": "execute_result"
    }
   ],
   "source": [
    "logreg.fit(X_train_dtm, y_train)"
   ]
  },
  {
   "cell_type": "code",
   "execution_count": 48,
   "metadata": {},
   "outputs": [],
   "source": [
    "y_pred_class = logreg.predict(X_test_dtm)"
   ]
  },
  {
   "cell_type": "code",
   "execution_count": 49,
   "metadata": {},
   "outputs": [
    {
     "name": "stdout",
     "output_type": "stream",
     "text": [
      "[[4781  136   56  326]\n",
      " [ 116 7060   30   75]\n",
      " [ 119   99 1812   49]\n",
      " [ 323  157   36 4465]]\n"
     ]
    }
   ],
   "source": [
    "# print the confusion matrix\n",
    "print(metrics.confusion_matrix(y_test, y_pred_class))"
   ]
  },
  {
   "cell_type": "code",
   "execution_count": 50,
   "metadata": {},
   "outputs": [
    {
     "name": "stdout",
     "output_type": "stream",
     "text": [
      "               precision    recall  f1-score   support\n",
      "\n",
      "     Business       0.89      0.89      0.89      5299\n",
      "Entertainment       0.95      0.96      0.95      7281\n",
      "      Medical       0.91      0.86      0.88      2079\n",
      "   Technology       0.87      0.88      0.88      4981\n",
      "\n",
      "     accuracy                           0.91     19640\n",
      "    macro avg       0.90      0.90      0.90     19640\n",
      " weighted avg       0.91      0.91      0.91     19640\n",
      "\n"
     ]
    }
   ],
   "source": [
    "# print the classification report\n",
    "print(metrics.classification_report(y_test, y_pred))"
   ]
  },
  {
   "cell_type": "markdown",
   "metadata": {},
   "source": [
    "# Modelling with Support Vector Machine (SVM)"
   ]
  },
  {
   "cell_type": "code",
   "execution_count": 51,
   "metadata": {},
   "outputs": [],
   "source": [
    "# import an instantiate an svm model\n",
    "from sklearn.svm import SVC\n",
    "svm = SVC()"
   ]
  },
  {
   "cell_type": "code",
   "execution_count": 52,
   "metadata": {},
   "outputs": [
    {
     "data": {
      "text/plain": [
       "SVC()"
      ]
     },
     "execution_count": 52,
     "metadata": {},
     "output_type": "execute_result"
    }
   ],
   "source": [
    "svm.fit(X_train_dtm, y_train)"
   ]
  },
  {
   "cell_type": "code",
   "execution_count": 53,
   "metadata": {},
   "outputs": [],
   "source": [
    "y_pred_class = svm.predict(X_test_dtm)"
   ]
  },
  {
   "cell_type": "code",
   "execution_count": 54,
   "metadata": {},
   "outputs": [
    {
     "name": "stdout",
     "output_type": "stream",
     "text": [
      "[[4774  154   39  332]\n",
      " [ 115 7088   24   54]\n",
      " [ 178  178 1680   43]\n",
      " [ 312  212   17 4440]]\n"
     ]
    }
   ],
   "source": [
    "# print the confusion matrix\n",
    "print(metrics.confusion_matrix(y_test, y_pred_class))"
   ]
  },
  {
   "cell_type": "code",
   "execution_count": 55,
   "metadata": {},
   "outputs": [
    {
     "name": "stdout",
     "output_type": "stream",
     "text": [
      "               precision    recall  f1-score   support\n",
      "\n",
      "     Business       0.89      0.89      0.89      5299\n",
      "Entertainment       0.95      0.96      0.95      7281\n",
      "      Medical       0.91      0.86      0.88      2079\n",
      "   Technology       0.87      0.88      0.88      4981\n",
      "\n",
      "     accuracy                           0.91     19640\n",
      "    macro avg       0.90      0.90      0.90     19640\n",
      " weighted avg       0.91      0.91      0.91     19640\n",
      "\n"
     ]
    }
   ],
   "source": [
    "# print the classification report\n",
    "print(metrics.classification_report(y_test, y_pred))"
   ]
  },
  {
   "cell_type": "markdown",
   "metadata": {},
   "source": [
    "# Cross Validation"
   ]
  },
  {
   "cell_type": "code",
   "execution_count": 56,
   "metadata": {},
   "outputs": [],
   "source": [
    "from sklearn.model_selection import cross_val_score"
   ]
  },
  {
   "cell_type": "code",
   "execution_count": 57,
   "metadata": {},
   "outputs": [
    {
     "data": {
      "text/plain": [
       "array([0.90355662, 0.90594654, 0.90791053, 0.90801964, 0.90474632])"
      ]
     },
     "execution_count": 57,
     "metadata": {},
     "output_type": "execute_result"
    }
   ],
   "source": [
    "# cross validation for Naive Bayes Model\n",
    "nb_score = cross_val_score(nb, X_train_dtm, y_train, cv=5)\n",
    "nb_score"
   ]
  },
  {
   "cell_type": "code",
   "execution_count": 58,
   "metadata": {},
   "outputs": [
    {
     "name": "stderr",
     "output_type": "stream",
     "text": [
      "C:\\Users\\prase\\Anaconda3\\lib\\site-packages\\sklearn\\linear_model\\_logistic.py:764: ConvergenceWarning: lbfgs failed to converge (status=1):\n",
      "STOP: TOTAL NO. of ITERATIONS REACHED LIMIT.\n",
      "\n",
      "Increase the number of iterations (max_iter) or scale the data as shown in:\n",
      "    https://scikit-learn.org/stable/modules/preprocessing.html\n",
      "Please also refer to the documentation for alternative solver options:\n",
      "    https://scikit-learn.org/stable/modules/linear_model.html#logistic-regression\n",
      "  extra_warning_msg=_LOGISTIC_SOLVER_CONVERGENCE_MSG)\n",
      "C:\\Users\\prase\\Anaconda3\\lib\\site-packages\\sklearn\\linear_model\\_logistic.py:764: ConvergenceWarning: lbfgs failed to converge (status=1):\n",
      "STOP: TOTAL NO. of ITERATIONS REACHED LIMIT.\n",
      "\n",
      "Increase the number of iterations (max_iter) or scale the data as shown in:\n",
      "    https://scikit-learn.org/stable/modules/preprocessing.html\n",
      "Please also refer to the documentation for alternative solver options:\n",
      "    https://scikit-learn.org/stable/modules/linear_model.html#logistic-regression\n",
      "  extra_warning_msg=_LOGISTIC_SOLVER_CONVERGENCE_MSG)\n",
      "C:\\Users\\prase\\Anaconda3\\lib\\site-packages\\sklearn\\linear_model\\_logistic.py:764: ConvergenceWarning: lbfgs failed to converge (status=1):\n",
      "STOP: TOTAL NO. of ITERATIONS REACHED LIMIT.\n",
      "\n",
      "Increase the number of iterations (max_iter) or scale the data as shown in:\n",
      "    https://scikit-learn.org/stable/modules/preprocessing.html\n",
      "Please also refer to the documentation for alternative solver options:\n",
      "    https://scikit-learn.org/stable/modules/linear_model.html#logistic-regression\n",
      "  extra_warning_msg=_LOGISTIC_SOLVER_CONVERGENCE_MSG)\n",
      "C:\\Users\\prase\\Anaconda3\\lib\\site-packages\\sklearn\\linear_model\\_logistic.py:764: ConvergenceWarning: lbfgs failed to converge (status=1):\n",
      "STOP: TOTAL NO. of ITERATIONS REACHED LIMIT.\n",
      "\n",
      "Increase the number of iterations (max_iter) or scale the data as shown in:\n",
      "    https://scikit-learn.org/stable/modules/preprocessing.html\n",
      "Please also refer to the documentation for alternative solver options:\n",
      "    https://scikit-learn.org/stable/modules/linear_model.html#logistic-regression\n",
      "  extra_warning_msg=_LOGISTIC_SOLVER_CONVERGENCE_MSG)\n",
      "C:\\Users\\prase\\Anaconda3\\lib\\site-packages\\sklearn\\linear_model\\_logistic.py:764: ConvergenceWarning: lbfgs failed to converge (status=1):\n",
      "STOP: TOTAL NO. of ITERATIONS REACHED LIMIT.\n",
      "\n",
      "Increase the number of iterations (max_iter) or scale the data as shown in:\n",
      "    https://scikit-learn.org/stable/modules/preprocessing.html\n",
      "Please also refer to the documentation for alternative solver options:\n",
      "    https://scikit-learn.org/stable/modules/linear_model.html#logistic-regression\n",
      "  extra_warning_msg=_LOGISTIC_SOLVER_CONVERGENCE_MSG)\n"
     ]
    },
    {
     "data": {
      "text/plain": [
       "array([0.91042985, 0.91729405, 0.91860338, 0.91707583, 0.91172941])"
      ]
     },
     "execution_count": 58,
     "metadata": {},
     "output_type": "execute_result"
    }
   ],
   "source": [
    "# cross validation for Logistic Regression Model\n",
    "logreg_score = cross_val_score(logreg, X_train_dtm, y_train, cv=5)\n",
    "logreg_score"
   ]
  },
  {
   "cell_type": "code",
   "execution_count": 59,
   "metadata": {},
   "outputs": [
    {
     "data": {
      "text/plain": [
       "array([0.90399302, 0.90943808, 0.91314785, 0.90703764, 0.90812875])"
      ]
     },
     "execution_count": 59,
     "metadata": {},
     "output_type": "execute_result"
    }
   ],
   "source": [
    "# cross validation for SVM Model\n",
    "svm_score = cross_val_score(svm, X_train_dtm, y_train, cv=5)\n",
    "svm_score"
   ]
  },
  {
   "cell_type": "code",
   "execution_count": 60,
   "metadata": {},
   "outputs": [
    {
     "name": "stdout",
     "output_type": "stream",
     "text": [
      "Average Score for Naive Bayes: 0.9060359289335015\n",
      "Average Score for Logistic Regression: 0.9150265045313815\n",
      "Average Score for SVM: 0.908349067255479\n"
     ]
    }
   ],
   "source": [
    "print('Average Score for Naive Bayes:', np.average(nb_score))\n",
    "print('Average Score for Logistic Regression:', np.average(logreg_score))\n",
    "print('Average Score for SVM:', np.average(svm_score))"
   ]
  },
  {
   "cell_type": "markdown",
   "metadata": {},
   "source": [
    "Based on the results above, the model we will choose is the logistic regression model because it has the highest score."
   ]
  },
  {
   "cell_type": "markdown",
   "metadata": {},
   "source": [
    "# Prediction Example"
   ]
  },
  {
   "cell_type": "code",
   "execution_count": 61,
   "metadata": {},
   "outputs": [
    {
     "data": {
      "text/plain": [
       "array(['Technology', 'Business'], dtype=object)"
      ]
     },
     "execution_count": 61,
     "metadata": {},
     "output_type": "execute_result"
    }
   ],
   "source": [
    "title = [\n",
    "    'iPhone 12: Apple makes jump to 5G',\n",
    "    'Ikea to buy back used furniture in recycling push'\n",
    "]\n",
    "title_dtm= v.transform(title)\n",
    "logreg.predict(title_dtm)"
   ]
  },
  {
   "cell_type": "markdown",
   "metadata": {},
   "source": [
    "\"iPhone 12: Apple makes leap to 5G\" is the Technology Category\n",
    "\n",
    "\"Ikea to buy back used furniture in a recycling push\" is a Business Category\n",
    "\n",
    "And it's all true. I take the title form BBC"
   ]
  },
  {
   "cell_type": "code",
   "execution_count": null,
   "metadata": {},
   "outputs": [],
   "source": []
  }
 ],
 "metadata": {
  "kernelspec": {
   "display_name": "Python 3",
   "language": "python",
   "name": "python3"
  },
  "language_info": {
   "codemirror_mode": {
    "name": "ipython",
    "version": 3
   },
   "file_extension": ".py",
   "mimetype": "text/x-python",
   "name": "python",
   "nbconvert_exporter": "python",
   "pygments_lexer": "ipython3",
   "version": "3.6.4"
  }
 },
 "nbformat": 4,
 "nbformat_minor": 2
}
